{
 "cells": [
  {
   "cell_type": "code",
   "execution_count": 4,
   "metadata": {
    "colab": {},
    "colab_type": "code",
    "id": "DfyBfCABKn8b"
   },
   "outputs": [],
   "source": [
    "import pandas as pd\n",
    "import numpy as np\n",
    "import sklearn\n",
    "import openpyxl\n",
    "import json\n",
    "from pandas import DataFrame\n",
    "import matplotlib.pyplot as plt\n",
    "from sklearn.decomposition import PCA\n",
    "from sklearn.ensemble import RandomForestRegressor, GradientBoostingRegressor, IsolationForest\n",
    "from sklearn.linear_model import LogisticRegression, LinearRegression\n",
    "from sklearn.neighbors import KNeighborsRegressor, LocalOutlierFactor, NearestNeighbors\n",
    "from sklearn.neural_network import MLPRegressor\n",
    "from sklearn.metrics import mean_squared_error, r2_score, max_error, mean_absolute_error\n",
    "from sklearn.preprocessing import MinMaxScaler, StandardScaler\n",
    "from sklearn.tree import DecisionTreeRegressor\n",
    "from sklearn.model_selection import train_test_split, cross_validate, StratifiedKFold\n",
    "from sklearn.model_selection import cross_val_score\n",
    "from sklearn.svm import OneClassSVM\n",
    "from sklearn import preprocessing\n",
    "from sklearn.model_selection import GridSearchCV"
   ]
  },
  {
   "cell_type": "code",
   "execution_count": 5,
   "metadata": {
    "colab": {},
    "colab_type": "code",
    "id": "K5SBud1wKn8g",
    "pycharm": {
     "name": "#%%\n"
    }
   },
   "outputs": [],
   "source": [
    "# chemical_composition = ['C', 'Si', 'Mn', 'Cu', 'Ni', 'Mo','Cr', 'V']\n",
    "chemical_composition = [\"C\", \"Si\", \"Mn\", \"Mg\", \"Cu\", \"Ni\", \"Mo\", \"CE\"]\n",
    "heat_treatment = ['aust_temp', 'aust_czas', 'ausf_temp', 'ausf_czas']\n",
    "physical_properties = ['Rm', 'Rp02', 'A5', 'HB', 'K']\n",
    "additional_features = ['grubosc']\n",
    "all_cols = chemical_composition + heat_treatment + additional_features + physical_properties"
   ]
  },
  {
   "cell_type": "code",
   "execution_count": 6,
   "metadata": {
    "colab": {
     "base_uri": "https://localhost:8080/",
     "height": 691
    },
    "colab_type": "code",
    "id": "CocEDWuILUFT",
    "outputId": "fda81010-0279-481b-e9ea-9c2b88a4b21a"
   },
   "outputs": [
    {
     "name": "stderr",
     "output_type": "stream",
     "text": [
      "'rm' is not recognized as an internal or external command,\n",
      "operable program or batch file.\n",
      "'wget' is not recognized as an internal or external command,\n",
      "operable program or batch file.\n"
     ]
    },
    {
     "data": {
      "text/html": [
       "<div>\n",
       "<style scoped>\n",
       "    .dataframe tbody tr th:only-of-type {\n",
       "        vertical-align: middle;\n",
       "    }\n",
       "\n",
       "    .dataframe tbody tr th {\n",
       "        vertical-align: top;\n",
       "    }\n",
       "\n",
       "    .dataframe thead th {\n",
       "        text-align: right;\n",
       "    }\n",
       "</style>\n",
       "<table border=\"1\" class=\"dataframe\">\n",
       "  <thead>\n",
       "    <tr style=\"text-align: right;\">\n",
       "      <th></th>\n",
       "      <th>C</th>\n",
       "      <th>Si</th>\n",
       "      <th>CE</th>\n",
       "      <th>Mn</th>\n",
       "      <th>Mg</th>\n",
       "      <th>Cu</th>\n",
       "      <th>Ni</th>\n",
       "      <th>Mo</th>\n",
       "      <th>aust_temp</th>\n",
       "      <th>aust_czas</th>\n",
       "      <th>ausf_temp</th>\n",
       "      <th>ausf_czas</th>\n",
       "      <th>Rm</th>\n",
       "      <th>Rp02</th>\n",
       "      <th>A5</th>\n",
       "      <th>HB</th>\n",
       "      <th>K</th>\n",
       "      <th>grubosc</th>\n",
       "    </tr>\n",
       "  </thead>\n",
       "  <tbody>\n",
       "    <tr>\n",
       "      <th>0</th>\n",
       "      <td>3.40</td>\n",
       "      <td>2.30</td>\n",
       "      <td>4.178000</td>\n",
       "      <td>0.17</td>\n",
       "      <td>0.047</td>\n",
       "      <td>0.70</td>\n",
       "      <td>1.50</td>\n",
       "      <td>0.24</td>\n",
       "      <td>900</td>\n",
       "      <td>120</td>\n",
       "      <td>240</td>\n",
       "      <td>120</td>\n",
       "      <td>1507.0</td>\n",
       "      <td>1072.0</td>\n",
       "      <td>2.8</td>\n",
       "      <td>429.0</td>\n",
       "      <td>54.4</td>\n",
       "      <td>25</td>\n",
       "    </tr>\n",
       "    <tr>\n",
       "      <th>1</th>\n",
       "      <td>3.40</td>\n",
       "      <td>2.30</td>\n",
       "      <td>4.178000</td>\n",
       "      <td>0.17</td>\n",
       "      <td>0.047</td>\n",
       "      <td>0.70</td>\n",
       "      <td>1.50</td>\n",
       "      <td>0.24</td>\n",
       "      <td>900</td>\n",
       "      <td>120</td>\n",
       "      <td>270</td>\n",
       "      <td>120</td>\n",
       "      <td>1307.0</td>\n",
       "      <td>936.0</td>\n",
       "      <td>4.1</td>\n",
       "      <td>388.0</td>\n",
       "      <td>71.6</td>\n",
       "      <td>25</td>\n",
       "    </tr>\n",
       "    <tr>\n",
       "      <th>2</th>\n",
       "      <td>3.40</td>\n",
       "      <td>2.30</td>\n",
       "      <td>4.178000</td>\n",
       "      <td>0.17</td>\n",
       "      <td>0.047</td>\n",
       "      <td>0.70</td>\n",
       "      <td>1.50</td>\n",
       "      <td>0.24</td>\n",
       "      <td>900</td>\n",
       "      <td>120</td>\n",
       "      <td>310</td>\n",
       "      <td>120</td>\n",
       "      <td>1132.0</td>\n",
       "      <td>804.0</td>\n",
       "      <td>5.4</td>\n",
       "      <td>341.0</td>\n",
       "      <td>84.4</td>\n",
       "      <td>25</td>\n",
       "    </tr>\n",
       "    <tr>\n",
       "      <th>3</th>\n",
       "      <td>3.40</td>\n",
       "      <td>2.30</td>\n",
       "      <td>4.178000</td>\n",
       "      <td>0.17</td>\n",
       "      <td>0.047</td>\n",
       "      <td>0.70</td>\n",
       "      <td>1.50</td>\n",
       "      <td>0.24</td>\n",
       "      <td>900</td>\n",
       "      <td>120</td>\n",
       "      <td>360</td>\n",
       "      <td>120</td>\n",
       "      <td>1028.0</td>\n",
       "      <td>652.0</td>\n",
       "      <td>10.0</td>\n",
       "      <td>285.0</td>\n",
       "      <td>123.6</td>\n",
       "      <td>25</td>\n",
       "    </tr>\n",
       "    <tr>\n",
       "      <th>4</th>\n",
       "      <td>3.52</td>\n",
       "      <td>2.87</td>\n",
       "      <td>4.693333</td>\n",
       "      <td>0.22</td>\n",
       "      <td>0.051</td>\n",
       "      <td>0.73</td>\n",
       "      <td>1.55</td>\n",
       "      <td>0.00</td>\n",
       "      <td>850</td>\n",
       "      <td>120</td>\n",
       "      <td>390</td>\n",
       "      <td>90</td>\n",
       "      <td>1064.9</td>\n",
       "      <td>NaN</td>\n",
       "      <td>15.4</td>\n",
       "      <td>296.8</td>\n",
       "      <td>NaN</td>\n",
       "      <td>25</td>\n",
       "    </tr>\n",
       "    <tr>\n",
       "      <th>...</th>\n",
       "      <td>...</td>\n",
       "      <td>...</td>\n",
       "      <td>...</td>\n",
       "      <td>...</td>\n",
       "      <td>...</td>\n",
       "      <td>...</td>\n",
       "      <td>...</td>\n",
       "      <td>...</td>\n",
       "      <td>...</td>\n",
       "      <td>...</td>\n",
       "      <td>...</td>\n",
       "      <td>...</td>\n",
       "      <td>...</td>\n",
       "      <td>...</td>\n",
       "      <td>...</td>\n",
       "      <td>...</td>\n",
       "      <td>...</td>\n",
       "      <td>...</td>\n",
       "    </tr>\n",
       "    <tr>\n",
       "      <th>684</th>\n",
       "      <td>3.97</td>\n",
       "      <td>1.57</td>\n",
       "      <td>4.494333</td>\n",
       "      <td>0.49</td>\n",
       "      <td>0.059</td>\n",
       "      <td>0.00</td>\n",
       "      <td>0.00</td>\n",
       "      <td>0.00</td>\n",
       "      <td>850</td>\n",
       "      <td>30</td>\n",
       "      <td>370</td>\n",
       "      <td>60</td>\n",
       "      <td>NaN</td>\n",
       "      <td>NaN</td>\n",
       "      <td>NaN</td>\n",
       "      <td>NaN</td>\n",
       "      <td>51.0</td>\n",
       "      <td>25</td>\n",
       "    </tr>\n",
       "    <tr>\n",
       "      <th>685</th>\n",
       "      <td>3.97</td>\n",
       "      <td>1.57</td>\n",
       "      <td>4.494333</td>\n",
       "      <td>0.49</td>\n",
       "      <td>0.059</td>\n",
       "      <td>0.00</td>\n",
       "      <td>0.00</td>\n",
       "      <td>0.00</td>\n",
       "      <td>850</td>\n",
       "      <td>30</td>\n",
       "      <td>400</td>\n",
       "      <td>60</td>\n",
       "      <td>NaN</td>\n",
       "      <td>NaN</td>\n",
       "      <td>NaN</td>\n",
       "      <td>NaN</td>\n",
       "      <td>30.0</td>\n",
       "      <td>25</td>\n",
       "    </tr>\n",
       "    <tr>\n",
       "      <th>686</th>\n",
       "      <td>3.97</td>\n",
       "      <td>1.57</td>\n",
       "      <td>4.494333</td>\n",
       "      <td>0.49</td>\n",
       "      <td>0.059</td>\n",
       "      <td>0.00</td>\n",
       "      <td>0.00</td>\n",
       "      <td>0.00</td>\n",
       "      <td>950</td>\n",
       "      <td>15</td>\n",
       "      <td>340</td>\n",
       "      <td>60</td>\n",
       "      <td>NaN</td>\n",
       "      <td>NaN</td>\n",
       "      <td>NaN</td>\n",
       "      <td>NaN</td>\n",
       "      <td>28.0</td>\n",
       "      <td>25</td>\n",
       "    </tr>\n",
       "    <tr>\n",
       "      <th>687</th>\n",
       "      <td>3.97</td>\n",
       "      <td>1.57</td>\n",
       "      <td>4.494333</td>\n",
       "      <td>0.49</td>\n",
       "      <td>0.059</td>\n",
       "      <td>0.00</td>\n",
       "      <td>0.00</td>\n",
       "      <td>0.00</td>\n",
       "      <td>950</td>\n",
       "      <td>15</td>\n",
       "      <td>370</td>\n",
       "      <td>60</td>\n",
       "      <td>NaN</td>\n",
       "      <td>NaN</td>\n",
       "      <td>NaN</td>\n",
       "      <td>NaN</td>\n",
       "      <td>48.5</td>\n",
       "      <td>25</td>\n",
       "    </tr>\n",
       "    <tr>\n",
       "      <th>688</th>\n",
       "      <td>3.97</td>\n",
       "      <td>1.57</td>\n",
       "      <td>4.494333</td>\n",
       "      <td>0.49</td>\n",
       "      <td>0.059</td>\n",
       "      <td>0.00</td>\n",
       "      <td>0.00</td>\n",
       "      <td>0.00</td>\n",
       "      <td>950</td>\n",
       "      <td>15</td>\n",
       "      <td>400</td>\n",
       "      <td>60</td>\n",
       "      <td>NaN</td>\n",
       "      <td>NaN</td>\n",
       "      <td>NaN</td>\n",
       "      <td>NaN</td>\n",
       "      <td>25.5</td>\n",
       "      <td>25</td>\n",
       "    </tr>\n",
       "  </tbody>\n",
       "</table>\n",
       "<p>689 rows × 18 columns</p>\n",
       "</div>"
      ],
      "text/plain": [
       "        C    Si        CE    Mn     Mg    Cu    Ni    Mo  aust_temp  \\\n",
       "0    3.40  2.30  4.178000  0.17  0.047  0.70  1.50  0.24        900   \n",
       "1    3.40  2.30  4.178000  0.17  0.047  0.70  1.50  0.24        900   \n",
       "2    3.40  2.30  4.178000  0.17  0.047  0.70  1.50  0.24        900   \n",
       "3    3.40  2.30  4.178000  0.17  0.047  0.70  1.50  0.24        900   \n",
       "4    3.52  2.87  4.693333  0.22  0.051  0.73  1.55  0.00        850   \n",
       "..    ...   ...       ...   ...    ...   ...   ...   ...        ...   \n",
       "684  3.97  1.57  4.494333  0.49  0.059  0.00  0.00  0.00        850   \n",
       "685  3.97  1.57  4.494333  0.49  0.059  0.00  0.00  0.00        850   \n",
       "686  3.97  1.57  4.494333  0.49  0.059  0.00  0.00  0.00        950   \n",
       "687  3.97  1.57  4.494333  0.49  0.059  0.00  0.00  0.00        950   \n",
       "688  3.97  1.57  4.494333  0.49  0.059  0.00  0.00  0.00        950   \n",
       "\n",
       "     aust_czas  ausf_temp  ausf_czas      Rm    Rp02    A5     HB      K  \\\n",
       "0          120        240        120  1507.0  1072.0   2.8  429.0   54.4   \n",
       "1          120        270        120  1307.0   936.0   4.1  388.0   71.6   \n",
       "2          120        310        120  1132.0   804.0   5.4  341.0   84.4   \n",
       "3          120        360        120  1028.0   652.0  10.0  285.0  123.6   \n",
       "4          120        390         90  1064.9     NaN  15.4  296.8    NaN   \n",
       "..         ...        ...        ...     ...     ...   ...    ...    ...   \n",
       "684         30        370         60     NaN     NaN   NaN    NaN   51.0   \n",
       "685         30        400         60     NaN     NaN   NaN    NaN   30.0   \n",
       "686         15        340         60     NaN     NaN   NaN    NaN   28.0   \n",
       "687         15        370         60     NaN     NaN   NaN    NaN   48.5   \n",
       "688         15        400         60     NaN     NaN   NaN    NaN   25.5   \n",
       "\n",
       "     grubosc  \n",
       "0         25  \n",
       "1         25  \n",
       "2         25  \n",
       "3         25  \n",
       "4         25  \n",
       "..       ...  \n",
       "684       25  \n",
       "685       25  \n",
       "686       25  \n",
       "687       25  \n",
       "688       25  \n",
       "\n",
       "[689 rows x 18 columns]"
      ]
     },
     "execution_count": 6,
     "metadata": {},
     "output_type": "execute_result"
    }
   ],
   "source": [
    "!rm zebrane-dane-2.xlsx\n",
    "!wget https://github.com/somas3k/master_thesis/raw/master/zebrane-dane-2.xlsx\n",
    "excel_data_path = \"zebrane-dane-2.xlsx\"\n",
    "df_org = pd.read_excel(excel_data_path, sheet_name=\"Dane\", header=1, usecols=all_cols)\n",
    "df_org"
   ]
  },
  {
   "cell_type": "code",
   "execution_count": 52,
   "metadata": {},
   "outputs": [
    {
     "data": {
      "image/png": "[encoded data removed]",
      "text/plain": [
       "<Figure size 1200x1000 with 12 Axes>"
      ]
     },
     "metadata": {},
     "output_type": "display_data"
    },
    {
     "data": {
      "image/png": "[encoded data removed]",
      "text/plain": [
       "<Figure size 600x600 with 4 Axes>"
      ]
     },
     "metadata": {},
     "output_type": "display_data"
    },
    {
     "data": {
      "image/png": "[encoded data removed]",
      "text/plain": [
       "<Figure size 1000x600 with 6 Axes>"
      ]
     },
     "metadata": {},
     "output_type": "display_data"
    }
   ],
   "source": [
    "import matplotlib.pyplot as plt\n",
    "import math\n",
    "plt.style.use('default')\n",
    "plt.rcParams[\"figure.figsize\"] = (10,5)\n",
    "\n",
    "def boxplot_of_with_size(df, columns, size, fig_size):\n",
    "    rows = int(math.ceil(len(columns)/size))\n",
    "    fig, axes = plt.subplots(rows, size, figsize=fig_size)\n",
    "    i = 0\n",
    "    j = 0\n",
    "    for feat in columns:\n",
    "        if rows == 1:\n",
    "            df_org.boxplot(column=[feat], ax=axes[j])\n",
    "        else:\n",
    "            df_org.boxplot(column=[feat], ax=axes[i][j])\n",
    "        j = j+1\n",
    "        if j == size: \n",
    "            j = 0\n",
    "            i = i +1\n",
    "    plt.show()\n",
    "\n",
    "boxplot_of_with_size(df_org, chemical_composition, 4, (12,10))\n",
    "boxplot_of_with_size(df_org, heat_treatment, 2, (6,6))\n",
    "boxplot_of_with_size(df_org, physical_properties + ['grubosc'], 3, (10, 6))"
   ]
  },
  {
   "cell_type": "code",
   "execution_count": 4,
   "metadata": {},
   "outputs": [
    {
     "data": {
      "text/plain": [
       "array([[<AxesSubplot:title={'center':'C'}>,\n",
       "        <AxesSubplot:title={'center':'Si'}>,\n",
       "        <AxesSubplot:title={'center':'CE'}>,\n",
       "        <AxesSubplot:title={'center':'Mn'}>,\n",
       "        <AxesSubplot:title={'center':'Mg'}>],\n",
       "       [<AxesSubplot:title={'center':'Cu'}>,\n",
       "        <AxesSubplot:title={'center':'Ni'}>,\n",
       "        <AxesSubplot:title={'center':'Mo'}>,\n",
       "        <AxesSubplot:title={'center':'S'}>,\n",
       "        <AxesSubplot:title={'center':'P'}>],\n",
       "       [<AxesSubplot:title={'center':'V'}>,\n",
       "        <AxesSubplot:title={'center':'Cr'}>,\n",
       "        <AxesSubplot:title={'center':'aust_temp'}>,\n",
       "        <AxesSubplot:title={'center':'aust_czas'}>,\n",
       "        <AxesSubplot:title={'center':'ausf_temp'}>],\n",
       "       [<AxesSubplot:title={'center':'ausf_czas'}>,\n",
       "        <AxesSubplot:title={'center':'Rm'}>,\n",
       "        <AxesSubplot:title={'center':'Rp02'}>,\n",
       "        <AxesSubplot:title={'center':'A5'}>,\n",
       "        <AxesSubplot:title={'center':'HB'}>],\n",
       "       [<AxesSubplot:title={'center':'K'}>,\n",
       "        <AxesSubplot:title={'center':'grubosc'}>, <AxesSubplot:>,\n",
       "        <AxesSubplot:>, <AxesSubplot:>]], dtype=object)"
      ]
     },
     "execution_count": 4,
     "metadata": {},
     "output_type": "execute_result"
    },
    {
     "data": {
      "image/png": "[encoded data removed]",
      "text/plain": [
       "<Figure size 1440x864 with 25 Axes>"
      ]
     },
     "metadata": {
      "needs_background": "light"
     },
     "output_type": "display_data"
    }
   ],
   "source": [
    "plt.rcParams[\"figure.figsize\"] = (20,12)\n",
    "df_org.hist()"
   ]
  },
  {
   "cell_type": "code",
   "execution_count": 19,
   "metadata": {},
   "outputs": [],
   "source": [
    "from pandas.plotting import scatter_matrix\n",
    "# scatter_matrix(df_org, alpha=0.2, figsize=(20, 20), diagonal='kde')"
   ]
  },
  {
   "cell_type": "code",
   "execution_count": 7,
   "metadata": {
    "colab": {},
    "colab_type": "code",
    "id": "Tw6-msxrKn9O",
    "outputId": "7b721ce8-25e7-4441-9102-62de120634de",
    "pycharm": {
     "name": "#%%\n"
    }
   },
   "outputs": [
    {
     "data": {
      "text/html": [
       "<div>\n",
       "<style scoped>\n",
       "    .dataframe tbody tr th:only-of-type {\n",
       "        vertical-align: middle;\n",
       "    }\n",
       "\n",
       "    .dataframe tbody tr th {\n",
       "        vertical-align: top;\n",
       "    }\n",
       "\n",
       "    .dataframe thead th {\n",
       "        text-align: right;\n",
       "    }\n",
       "</style>\n",
       "<table border=\"1\" class=\"dataframe\">\n",
       "  <thead>\n",
       "    <tr style=\"text-align: right;\">\n",
       "      <th></th>\n",
       "      <th>C</th>\n",
       "      <th>Si</th>\n",
       "      <th>Mn</th>\n",
       "      <th>Mg</th>\n",
       "      <th>Cu</th>\n",
       "      <th>Ni</th>\n",
       "      <th>Mo</th>\n",
       "      <th>CE</th>\n",
       "      <th>aust_temp</th>\n",
       "      <th>aust_czas</th>\n",
       "      <th>ausf_temp</th>\n",
       "      <th>ausf_czas</th>\n",
       "      <th>grubosc</th>\n",
       "      <th>log_10(ausf_czas_sec)</th>\n",
       "      <th>Rm</th>\n",
       "    </tr>\n",
       "  </thead>\n",
       "  <tbody>\n",
       "    <tr>\n",
       "      <th>count</th>\n",
       "      <td>689.000000</td>\n",
       "      <td>689.000000</td>\n",
       "      <td>689.000000</td>\n",
       "      <td>689.000000</td>\n",
       "      <td>689.000000</td>\n",
       "      <td>689.000000</td>\n",
       "      <td>689.000000</td>\n",
       "      <td>689.000000</td>\n",
       "      <td>689.000000</td>\n",
       "      <td>689.000000</td>\n",
       "      <td>689.000000</td>\n",
       "      <td>689.000000</td>\n",
       "      <td>689.000000</td>\n",
       "      <td>689.000000</td>\n",
       "      <td>425.000000</td>\n",
       "    </tr>\n",
       "    <tr>\n",
       "      <th>mean</th>\n",
       "      <td>3.475039</td>\n",
       "      <td>2.467228</td>\n",
       "      <td>0.242335</td>\n",
       "      <td>0.051302</td>\n",
       "      <td>0.600122</td>\n",
       "      <td>0.778710</td>\n",
       "      <td>0.080976</td>\n",
       "      <td>4.308975</td>\n",
       "      <td>898.416546</td>\n",
       "      <td>95.885341</td>\n",
       "      <td>335.219158</td>\n",
       "      <td>122.442671</td>\n",
       "      <td>28.924528</td>\n",
       "      <td>3.764736</td>\n",
       "      <td>1104.713176</td>\n",
       "    </tr>\n",
       "    <tr>\n",
       "      <th>std</th>\n",
       "      <td>0.164055</td>\n",
       "      <td>0.227081</td>\n",
       "      <td>0.097739</td>\n",
       "      <td>0.029566</td>\n",
       "      <td>0.573733</td>\n",
       "      <td>0.632711</td>\n",
       "      <td>0.119591</td>\n",
       "      <td>0.182115</td>\n",
       "      <td>30.764849</td>\n",
       "      <td>38.789083</td>\n",
       "      <td>43.768782</td>\n",
       "      <td>88.824935</td>\n",
       "      <td>13.738107</td>\n",
       "      <td>0.301986</td>\n",
       "      <td>195.263857</td>\n",
       "    </tr>\n",
       "    <tr>\n",
       "      <th>min</th>\n",
       "      <td>3.070000</td>\n",
       "      <td>1.570000</td>\n",
       "      <td>0.061000</td>\n",
       "      <td>0.020000</td>\n",
       "      <td>0.000000</td>\n",
       "      <td>0.000000</td>\n",
       "      <td>0.000000</td>\n",
       "      <td>3.793333</td>\n",
       "      <td>827.000000</td>\n",
       "      <td>15.000000</td>\n",
       "      <td>240.000000</td>\n",
       "      <td>10.000000</td>\n",
       "      <td>13.000000</td>\n",
       "      <td>2.778151</td>\n",
       "      <td>588.000000</td>\n",
       "    </tr>\n",
       "    <tr>\n",
       "      <th>25%</th>\n",
       "      <td>3.400000</td>\n",
       "      <td>2.320000</td>\n",
       "      <td>0.180000</td>\n",
       "      <td>0.042000</td>\n",
       "      <td>0.001000</td>\n",
       "      <td>0.090000</td>\n",
       "      <td>0.000000</td>\n",
       "      <td>4.198333</td>\n",
       "      <td>900.000000</td>\n",
       "      <td>60.000000</td>\n",
       "      <td>300.000000</td>\n",
       "      <td>60.000000</td>\n",
       "      <td>25.000000</td>\n",
       "      <td>3.556303</td>\n",
       "      <td>979.000000</td>\n",
       "    </tr>\n",
       "    <tr>\n",
       "      <th>50%</th>\n",
       "      <td>3.500000</td>\n",
       "      <td>2.500000</td>\n",
       "      <td>0.230000</td>\n",
       "      <td>0.049000</td>\n",
       "      <td>0.500000</td>\n",
       "      <td>0.950000</td>\n",
       "      <td>0.001000</td>\n",
       "      <td>4.293333</td>\n",
       "      <td>900.000000</td>\n",
       "      <td>90.000000</td>\n",
       "      <td>340.000000</td>\n",
       "      <td>120.000000</td>\n",
       "      <td>25.000000</td>\n",
       "      <td>3.857332</td>\n",
       "      <td>1082.000000</td>\n",
       "    </tr>\n",
       "    <tr>\n",
       "      <th>75%</th>\n",
       "      <td>3.570000</td>\n",
       "      <td>2.570000</td>\n",
       "      <td>0.280000</td>\n",
       "      <td>0.055000</td>\n",
       "      <td>1.000000</td>\n",
       "      <td>1.500000</td>\n",
       "      <td>0.150000</td>\n",
       "      <td>4.441667</td>\n",
       "      <td>910.000000</td>\n",
       "      <td>120.000000</td>\n",
       "      <td>370.000000</td>\n",
       "      <td>180.000000</td>\n",
       "      <td>25.000000</td>\n",
       "      <td>4.033424</td>\n",
       "      <td>1201.000000</td>\n",
       "    </tr>\n",
       "    <tr>\n",
       "      <th>max</th>\n",
       "      <td>3.970000</td>\n",
       "      <td>3.090000</td>\n",
       "      <td>0.610000</td>\n",
       "      <td>0.500000</td>\n",
       "      <td>1.600000</td>\n",
       "      <td>1.900000</td>\n",
       "      <td>0.500000</td>\n",
       "      <td>4.833333</td>\n",
       "      <td>982.000000</td>\n",
       "      <td>180.000000</td>\n",
       "      <td>450.000000</td>\n",
       "      <td>800.000000</td>\n",
       "      <td>100.000000</td>\n",
       "      <td>4.681241</td>\n",
       "      <td>1657.000000</td>\n",
       "    </tr>\n",
       "  </tbody>\n",
       "</table>\n",
       "</div>"
      ],
      "text/plain": [
       "                C          Si          Mn          Mg          Cu          Ni  \\\n",
       "count  689.000000  689.000000  689.000000  689.000000  689.000000  689.000000   \n",
       "mean     3.475039    2.467228    0.242335    0.051302    0.600122    0.778710   \n",
       "std      0.164055    0.227081    0.097739    0.029566    0.573733    0.632711   \n",
       "min      3.070000    1.570000    0.061000    0.020000    0.000000    0.000000   \n",
       "25%      3.400000    2.320000    0.180000    0.042000    0.001000    0.090000   \n",
       "50%      3.500000    2.500000    0.230000    0.049000    0.500000    0.950000   \n",
       "75%      3.570000    2.570000    0.280000    0.055000    1.000000    1.500000   \n",
       "max      3.970000    3.090000    0.610000    0.500000    1.600000    1.900000   \n",
       "\n",
       "               Mo          CE   aust_temp   aust_czas   ausf_temp   ausf_czas  \\\n",
       "count  689.000000  689.000000  689.000000  689.000000  689.000000  689.000000   \n",
       "mean     0.080976    4.308975  898.416546   95.885341  335.219158  122.442671   \n",
       "std      0.119591    0.182115   30.764849   38.789083   43.768782   88.824935   \n",
       "min      0.000000    3.793333  827.000000   15.000000  240.000000   10.000000   \n",
       "25%      0.000000    4.198333  900.000000   60.000000  300.000000   60.000000   \n",
       "50%      0.001000    4.293333  900.000000   90.000000  340.000000  120.000000   \n",
       "75%      0.150000    4.441667  910.000000  120.000000  370.000000  180.000000   \n",
       "max      0.500000    4.833333  982.000000  180.000000  450.000000  800.000000   \n",
       "\n",
       "          grubosc  log_10(ausf_czas_sec)           Rm  \n",
       "count  689.000000             689.000000   425.000000  \n",
       "mean    28.924528               3.764736  1104.713176  \n",
       "std     13.738107               0.301986   195.263857  \n",
       "min     13.000000               2.778151   588.000000  \n",
       "25%     25.000000               3.556303   979.000000  \n",
       "50%     25.000000               3.857332  1082.000000  \n",
       "75%     25.000000               4.033424  1201.000000  \n",
       "max    100.000000               4.681241  1657.000000  "
      ]
     },
     "execution_count": 7,
     "metadata": {},
     "output_type": "execute_result"
    }
   ],
   "source": [
    "df_comp = df_org.copy()\n",
    "predictors_to_inc_degree = chemical_composition + heat_treatment\n",
    "\n",
    "new_predictors = predictors_to_inc_degree\n",
    "df_comp['log_10(ausf_czas_sec)'] = df_comp.apply(lambda row: np.log10(row['ausf_czas']*60), axis=1)\n",
    "other_predictors = ['grubosc']\n",
    "generated_predictors = ['log_10(ausf_czas_sec)']\n",
    "predictors = new_predictors + other_predictors + generated_predictors\n",
    "target_column = \"Rm\"\n",
    "df_comp[predictors+[target_column]].describe()"
   ]
  },
  {
   "cell_type": "code",
   "execution_count": 6,
   "metadata": {
    "colab": {},
    "colab_type": "code",
    "collapsed": false,
    "id": "VTFprrPZKn9S",
    "jupyter": {
     "outputs_hidden": false
    },
    "outputId": "237066ab-f498-4030-a94c-0440fc7d45cd",
    "pycharm": {
     "name": "#%%\n"
    }
   },
   "outputs": [],
   "source": [
    "# def round_to(series, val, limit):\n",
    "#     if limit == 'min':\n",
    "#         l = series.min()\n",
    "#         return l + ((val - l % val) if l % val else 0)\n",
    "#     if limit == 'max':\n",
    "#         l = series.max()\n",
    "#         return l - (l % val)\n",
    "\n",
    "# def get_possible_values_list(min_val, max_val, step):\n",
    "#     return list(np.linspace(min_val, max_val, int((max_val - min_val)/step) + 1))\n",
    "\n",
    "# df_comp = df_org.copy()\n",
    "# compositions = set([json.dumps(dict) for dict in df_comp[chemical_composition].to_dict('records')])\n",
    "# compositions = list([json.loads(comp) for comp in compositions])\n",
    "# for i, comp in enumerate(compositions):\n",
    "#     comp['id'] = i\n",
    "# temps = ['aust_temp', 'ausf_temp']\n",
    "# temp_step = 5\n",
    "# time_step = 15\n",
    "\n",
    "# min_aust_temp = round_to(df_comp['aust_temp'], temp_step, 'min')\n",
    "# max_aust_temp = round_to(df_comp['aust_temp'], temp_step, 'max')\n",
    "# min_ausf_temp = round_to(df_comp['ausf_temp'], temp_step, 'min')\n",
    "# max_ausf_temp = round_to(df_comp['ausf_temp'], temp_step, 'max')\n",
    "# min_aust_time = round_to(df_comp['aust_czas'], time_step, 'min')\n",
    "# max_aust_time = round_to(df_comp['aust_czas'], time_step, 'max')\n",
    "# min_ausf_time = round_to(df_comp['ausf_czas'], time_step, 'min')\n",
    "# max_ausf_time = round_to(df_comp['ausf_czas'], time_step, 'max')\n",
    "# possible_values = {\n",
    "#     'chemicalCompositions' : compositions,\n",
    "#     'possibleAustTemps' : get_possible_values_list(min_aust_temp, max_aust_temp, temp_step),\n",
    "#     'possibleAustTimes' : get_possible_values_list(min_aust_time, max_aust_time, time_step),\n",
    "#     'possibleAusfTemps' : get_possible_values_list(min_ausf_temp, max_ausf_temp, temp_step),\n",
    "#     'possibleAusfTimes' : get_possible_values_list(min_ausf_time, max_ausf_time, time_step),\n",
    "# }\n",
    "# with open('possible_values.json', 'w') as f:\n",
    "#     json.dump(possible_values, f)"
   ]
  },
  {
   "cell_type": "code",
   "execution_count": 8,
   "metadata": {
    "colab": {},
    "colab_type": "code",
    "collapsed": false,
    "id": "RouU-oRbKn9U",
    "jupyter": {
     "outputs_hidden": false
    },
    "outputId": "2f524463-8ce4-4014-c0fe-4307b80b3f87",
    "pycharm": {
     "name": "#%%\n"
    }
   },
   "outputs": [
    {
     "data": {
      "text/html": [
       "<div>\n",
       "<style scoped>\n",
       "    .dataframe tbody tr th:only-of-type {\n",
       "        vertical-align: middle;\n",
       "    }\n",
       "\n",
       "    .dataframe tbody tr th {\n",
       "        vertical-align: top;\n",
       "    }\n",
       "\n",
       "    .dataframe thead th {\n",
       "        text-align: right;\n",
       "    }\n",
       "</style>\n",
       "<table border=\"1\" class=\"dataframe\">\n",
       "  <thead>\n",
       "    <tr style=\"text-align: right;\">\n",
       "      <th></th>\n",
       "      <th>C</th>\n",
       "      <th>Si</th>\n",
       "      <th>Mn</th>\n",
       "      <th>Mg</th>\n",
       "      <th>Cu</th>\n",
       "      <th>Ni</th>\n",
       "      <th>Mo</th>\n",
       "      <th>CE</th>\n",
       "      <th>aust_temp</th>\n",
       "      <th>aust_czas</th>\n",
       "      <th>ausf_temp</th>\n",
       "      <th>ausf_czas</th>\n",
       "      <th>grubosc</th>\n",
       "      <th>log_10(ausf_czas_sec)</th>\n",
       "      <th>Rm</th>\n",
       "    </tr>\n",
       "  </thead>\n",
       "  <tbody>\n",
       "    <tr>\n",
       "      <th>0</th>\n",
       "      <td>-0.133333</td>\n",
       "      <td>-0.019737</td>\n",
       "      <td>-0.301457</td>\n",
       "      <td>-0.443750</td>\n",
       "      <td>-0.06250</td>\n",
       "      <td>0.289474</td>\n",
       "      <td>-0.02</td>\n",
       "      <td>-0.130128</td>\n",
       "      <td>-0.029032</td>\n",
       "      <td>0.136364</td>\n",
       "      <td>-0.500000</td>\n",
       "      <td>-0.360759</td>\n",
       "      <td>-0.362069</td>\n",
       "      <td>0.067068</td>\n",
       "      <td>1507.0</td>\n",
       "    </tr>\n",
       "    <tr>\n",
       "      <th>1</th>\n",
       "      <td>-0.133333</td>\n",
       "      <td>-0.019737</td>\n",
       "      <td>-0.301457</td>\n",
       "      <td>-0.443750</td>\n",
       "      <td>-0.06250</td>\n",
       "      <td>0.289474</td>\n",
       "      <td>-0.02</td>\n",
       "      <td>-0.130128</td>\n",
       "      <td>-0.029032</td>\n",
       "      <td>0.136364</td>\n",
       "      <td>-0.357143</td>\n",
       "      <td>-0.360759</td>\n",
       "      <td>-0.362069</td>\n",
       "      <td>0.067068</td>\n",
       "      <td>1307.0</td>\n",
       "    </tr>\n",
       "    <tr>\n",
       "      <th>2</th>\n",
       "      <td>-0.133333</td>\n",
       "      <td>-0.019737</td>\n",
       "      <td>-0.301457</td>\n",
       "      <td>-0.443750</td>\n",
       "      <td>-0.06250</td>\n",
       "      <td>0.289474</td>\n",
       "      <td>-0.02</td>\n",
       "      <td>-0.130128</td>\n",
       "      <td>-0.029032</td>\n",
       "      <td>0.136364</td>\n",
       "      <td>-0.166667</td>\n",
       "      <td>-0.360759</td>\n",
       "      <td>-0.362069</td>\n",
       "      <td>0.067068</td>\n",
       "      <td>1132.0</td>\n",
       "    </tr>\n",
       "    <tr>\n",
       "      <th>3</th>\n",
       "      <td>-0.133333</td>\n",
       "      <td>-0.019737</td>\n",
       "      <td>-0.301457</td>\n",
       "      <td>-0.443750</td>\n",
       "      <td>-0.06250</td>\n",
       "      <td>0.289474</td>\n",
       "      <td>-0.02</td>\n",
       "      <td>-0.130128</td>\n",
       "      <td>-0.029032</td>\n",
       "      <td>0.136364</td>\n",
       "      <td>0.071429</td>\n",
       "      <td>-0.360759</td>\n",
       "      <td>-0.362069</td>\n",
       "      <td>0.067068</td>\n",
       "      <td>1028.0</td>\n",
       "    </tr>\n",
       "    <tr>\n",
       "      <th>4</th>\n",
       "      <td>0.000000</td>\n",
       "      <td>0.355263</td>\n",
       "      <td>-0.210383</td>\n",
       "      <td>-0.435417</td>\n",
       "      <td>-0.04375</td>\n",
       "      <td>0.315789</td>\n",
       "      <td>-0.50</td>\n",
       "      <td>0.365385</td>\n",
       "      <td>-0.351613</td>\n",
       "      <td>0.136364</td>\n",
       "      <td>0.214286</td>\n",
       "      <td>-0.398734</td>\n",
       "      <td>-0.362069</td>\n",
       "      <td>0.001417</td>\n",
       "      <td>1064.9</td>\n",
       "    </tr>\n",
       "    <tr>\n",
       "      <th>...</th>\n",
       "      <td>...</td>\n",
       "      <td>...</td>\n",
       "      <td>...</td>\n",
       "      <td>...</td>\n",
       "      <td>...</td>\n",
       "      <td>...</td>\n",
       "      <td>...</td>\n",
       "      <td>...</td>\n",
       "      <td>...</td>\n",
       "      <td>...</td>\n",
       "      <td>...</td>\n",
       "      <td>...</td>\n",
       "      <td>...</td>\n",
       "      <td>...</td>\n",
       "      <td>...</td>\n",
       "    </tr>\n",
       "    <tr>\n",
       "      <th>658</th>\n",
       "      <td>0.222222</td>\n",
       "      <td>0.118421</td>\n",
       "      <td>0.026412</td>\n",
       "      <td>-0.452083</td>\n",
       "      <td>-0.46875</td>\n",
       "      <td>-0.452632</td>\n",
       "      <td>-0.38</td>\n",
       "      <td>0.241346</td>\n",
       "      <td>0.145161</td>\n",
       "      <td>-0.227273</td>\n",
       "      <td>0.123810</td>\n",
       "      <td>-0.474684</td>\n",
       "      <td>-0.362069</td>\n",
       "      <td>-0.249291</td>\n",
       "      <td>1136.0</td>\n",
       "    </tr>\n",
       "    <tr>\n",
       "      <th>659</th>\n",
       "      <td>0.222222</td>\n",
       "      <td>0.118421</td>\n",
       "      <td>0.026412</td>\n",
       "      <td>-0.452083</td>\n",
       "      <td>-0.46875</td>\n",
       "      <td>-0.452632</td>\n",
       "      <td>-0.38</td>\n",
       "      <td>0.241346</td>\n",
       "      <td>0.145161</td>\n",
       "      <td>-0.227273</td>\n",
       "      <td>0.123810</td>\n",
       "      <td>-0.436709</td>\n",
       "      <td>-0.362069</td>\n",
       "      <td>-0.091112</td>\n",
       "      <td>1136.0</td>\n",
       "    </tr>\n",
       "    <tr>\n",
       "      <th>661</th>\n",
       "      <td>0.222222</td>\n",
       "      <td>0.118421</td>\n",
       "      <td>0.026412</td>\n",
       "      <td>-0.452083</td>\n",
       "      <td>-0.46875</td>\n",
       "      <td>-0.452632</td>\n",
       "      <td>-0.38</td>\n",
       "      <td>0.241346</td>\n",
       "      <td>0.145161</td>\n",
       "      <td>-0.227273</td>\n",
       "      <td>0.123810</td>\n",
       "      <td>-0.360759</td>\n",
       "      <td>-0.362069</td>\n",
       "      <td>0.067068</td>\n",
       "      <td>1122.0</td>\n",
       "    </tr>\n",
       "    <tr>\n",
       "      <th>663</th>\n",
       "      <td>0.222222</td>\n",
       "      <td>0.118421</td>\n",
       "      <td>0.026412</td>\n",
       "      <td>-0.452083</td>\n",
       "      <td>-0.46875</td>\n",
       "      <td>-0.452632</td>\n",
       "      <td>-0.38</td>\n",
       "      <td>0.241346</td>\n",
       "      <td>0.145161</td>\n",
       "      <td>-0.227273</td>\n",
       "      <td>0.123810</td>\n",
       "      <td>-0.208861</td>\n",
       "      <td>-0.362069</td>\n",
       "      <td>0.225247</td>\n",
       "      <td>1108.0</td>\n",
       "    </tr>\n",
       "    <tr>\n",
       "      <th>665</th>\n",
       "      <td>0.222222</td>\n",
       "      <td>0.118421</td>\n",
       "      <td>0.026412</td>\n",
       "      <td>-0.452083</td>\n",
       "      <td>-0.46875</td>\n",
       "      <td>-0.452632</td>\n",
       "      <td>-0.38</td>\n",
       "      <td>0.241346</td>\n",
       "      <td>0.145161</td>\n",
       "      <td>-0.227273</td>\n",
       "      <td>0.123810</td>\n",
       "      <td>0.094937</td>\n",
       "      <td>-0.362069</td>\n",
       "      <td>0.383427</td>\n",
       "      <td>1108.0</td>\n",
       "    </tr>\n",
       "  </tbody>\n",
       "</table>\n",
       "<p>425 rows × 15 columns</p>\n",
       "</div>"
      ],
      "text/plain": [
       "            C        Si        Mn        Mg       Cu        Ni    Mo  \\\n",
       "0   -0.133333 -0.019737 -0.301457 -0.443750 -0.06250  0.289474 -0.02   \n",
       "1   -0.133333 -0.019737 -0.301457 -0.443750 -0.06250  0.289474 -0.02   \n",
       "2   -0.133333 -0.019737 -0.301457 -0.443750 -0.06250  0.289474 -0.02   \n",
       "3   -0.133333 -0.019737 -0.301457 -0.443750 -0.06250  0.289474 -0.02   \n",
       "4    0.000000  0.355263 -0.210383 -0.435417 -0.04375  0.315789 -0.50   \n",
       "..        ...       ...       ...       ...      ...       ...   ...   \n",
       "658  0.222222  0.118421  0.026412 -0.452083 -0.46875 -0.452632 -0.38   \n",
       "659  0.222222  0.118421  0.026412 -0.452083 -0.46875 -0.452632 -0.38   \n",
       "661  0.222222  0.118421  0.026412 -0.452083 -0.46875 -0.452632 -0.38   \n",
       "663  0.222222  0.118421  0.026412 -0.452083 -0.46875 -0.452632 -0.38   \n",
       "665  0.222222  0.118421  0.026412 -0.452083 -0.46875 -0.452632 -0.38   \n",
       "\n",
       "           CE  aust_temp  aust_czas  ausf_temp  ausf_czas   grubosc  \\\n",
       "0   -0.130128  -0.029032   0.136364  -0.500000  -0.360759 -0.362069   \n",
       "1   -0.130128  -0.029032   0.136364  -0.357143  -0.360759 -0.362069   \n",
       "2   -0.130128  -0.029032   0.136364  -0.166667  -0.360759 -0.362069   \n",
       "3   -0.130128  -0.029032   0.136364   0.071429  -0.360759 -0.362069   \n",
       "4    0.365385  -0.351613   0.136364   0.214286  -0.398734 -0.362069   \n",
       "..        ...        ...        ...        ...        ...       ...   \n",
       "658  0.241346   0.145161  -0.227273   0.123810  -0.474684 -0.362069   \n",
       "659  0.241346   0.145161  -0.227273   0.123810  -0.436709 -0.362069   \n",
       "661  0.241346   0.145161  -0.227273   0.123810  -0.360759 -0.362069   \n",
       "663  0.241346   0.145161  -0.227273   0.123810  -0.208861 -0.362069   \n",
       "665  0.241346   0.145161  -0.227273   0.123810   0.094937 -0.362069   \n",
       "\n",
       "     log_10(ausf_czas_sec)      Rm  \n",
       "0                 0.067068  1507.0  \n",
       "1                 0.067068  1307.0  \n",
       "2                 0.067068  1132.0  \n",
       "3                 0.067068  1028.0  \n",
       "4                 0.001417  1064.9  \n",
       "..                     ...     ...  \n",
       "658              -0.249291  1136.0  \n",
       "659              -0.091112  1136.0  \n",
       "661               0.067068  1122.0  \n",
       "663               0.225247  1108.0  \n",
       "665               0.383427  1108.0  \n",
       "\n",
       "[425 rows x 15 columns]"
      ]
     },
     "execution_count": 8,
     "metadata": {},
     "output_type": "execute_result"
    }
   ],
   "source": [
    "df_before_scaling = df_comp.copy()\n",
    "df_comp[predictors] = MinMaxScaler(feature_range=(-0.5, 0.5)).fit_transform(df_comp[predictors])\n",
    "# df_comp[['Rm_w']] = MinMaxScaler().fit_transform(df_comp[['Rm_w']])\n",
    "df_tmp = df_comp.copy()\n",
    "df_comp = df_comp[predictors + [target_column]].dropna()\n",
    "df_comp"
   ]
  },
  {
   "cell_type": "code",
   "execution_count": 9,
   "metadata": {
    "colab": {},
    "colab_type": "code",
    "id": "_b2i-ZIXKn9W",
    "pycharm": {
     "name": "#%%\n"
    }
   },
   "outputs": [],
   "source": [
    "X = df_comp[predictors].values\n",
    "# weights = df_comp[['Rm_w']].values\n",
    "y = df_comp[target_column].values"
   ]
  },
  {
   "cell_type": "code",
   "execution_count": 10,
   "metadata": {
    "colab": {},
    "colab_type": "code",
    "collapsed": false,
    "id": "UNJsCw1jKn9Y",
    "jupyter": {
     "outputs_hidden": false
    },
    "outputId": "78779c96-59a5-449a-9321-8dab0c35082d",
    "pycharm": {
     "name": "#%%\n"
    }
   },
   "outputs": [
    {
     "data": {
      "image/png": "[encoded data removed]",
      "text/plain": [
       "<Figure size 1080x216 with 5 Axes>"
      ]
     },
     "metadata": {
      "needs_background": "light"
     },
     "output_type": "display_data"
    }
   ],
   "source": [
    "bins = np.linspace(y.min()-0.1, y.max()+0.1, 6)\n",
    "# bins = [-1, 2.7, 4.5, 6.5, 8.4, 100] #a5\n",
    "# bins = [0, 696, 813, 900, 1100, 2000] #rp02\n",
    "# bins = [0, 52, 75, 90, 110, 300] #k\n",
    "# bins = [0, 286, 325, 370, 415, 1000] #hb\n",
    "bins = [0, 960, 1045, 1127, 1264, 2000] #rm\n",
    "\n",
    "bins_map = {\n",
    "    'Rm': [0, 960, 1045, 1127, 1264, 2000],\n",
    "    'Rp02': [0, 696, 813, 900, 1100, 2000],\n",
    "    'HB': [0, 286, 325, 370, 415, 1000],\n",
    "    'A5': [0, 2.7, 4.5, 6.5, 8.4, 100],\n",
    "    'K':  [0, 52, 75, 90, 110, 300]\n",
    "}\n",
    "\n",
    "y_binned = np.digitize(y, bins)\n",
    "# print(y_binned)\n",
    "# pd.Series(y_binned).hist()\n",
    "fig, axes = plt.subplots(1, 5, figsize=[15, 3])\n",
    "for i, feat in enumerate(physical_properties):\n",
    "    ys = df_org[feat].dropna().values\n",
    "    bins = bins_map[feat]\n",
    "    ys_binned = np.digitize(ys, bins)\n",
    "    axes[i].set_title(feat)\n",
    "    pd.Series(ys_binned).hist(ax=axes[i])\n",
    "plt.show()"
   ]
  },
  {
   "cell_type": "code",
   "execution_count": 15,
   "metadata": {},
   "outputs": [
    {
     "name": "stdout",
     "output_type": "stream",
     "text": [
      "Fitting 5 folds for each of 432 candidates, totalling 2160 fits\n"
     ]
    },
    {
     "name": "stderr",
     "output_type": "stream",
     "text": [
      "[Parallel(n_jobs=-1)]: Using backend LokyBackend with 12 concurrent workers.\n",
      "[Parallel(n_jobs=-1)]: Done  26 tasks      | elapsed:    5.1s\n",
      "[Parallel(n_jobs=-1)]: Done 176 tasks      | elapsed:    8.8s\n",
      "[Parallel(n_jobs=-1)]: Done 426 tasks      | elapsed:   15.8s\n",
      "[Parallel(n_jobs=-1)]: Done 776 tasks      | elapsed:   25.5s\n",
      "[Parallel(n_jobs=-1)]: Done 1226 tasks      | elapsed:   49.1s\n",
      "[Parallel(n_jobs=-1)]: Done 1776 tasks      | elapsed:  1.9min\n",
      "[Parallel(n_jobs=-1)]: Done 2160 out of 2160 | elapsed:  2.6min finished\n"
     ]
    },
    {
     "data": {
      "text/plain": [
       "GridSearchCV(cv=<generator object _BaseKFold.split at 0x000002D4AB840BC8>,\n",
       "             estimator=RandomForestRegressor(random_state=42), n_jobs=-1,\n",
       "             param_grid={'criterion': ['mse', 'mae'],\n",
       "                         'max_depth': [15, 20, 25, 30],\n",
       "                         'max_features': ['auto', 8, 9, 10, 11, 12],\n",
       "                         'min_samples_split': [2, 3, 4],\n",
       "                         'n_estimators': [10, 50, 100]},\n",
       "             refit='neg_mean_absolute_error',\n",
       "             scoring=['neg_mean_absolute_error', 'r2'], verbose=1)"
      ]
     },
     "execution_count": 15,
     "metadata": {},
     "output_type": "execute_result"
    }
   ],
   "source": [
    "df_comp = df_org.copy()\n",
    "predictors_to_inc_degree = chemical_composition + heat_treatment\n",
    "\n",
    "new_predictors = predictors_to_inc_degree\n",
    "df_comp['log_10(ausf_czas_sec)'] = df_comp.apply(lambda row: np.log10(row['ausf_czas']*60), axis=1)\n",
    "other_predictors = ['grubosc']\n",
    "generated_predictors = ['log_10(ausf_czas_sec)']\n",
    "predictors = new_predictors + other_predictors + generated_predictors\n",
    "target_column = \"HB\"\n",
    "df_before_scaling = df_comp.copy()\n",
    "df_comp[predictors] = MinMaxScaler(feature_range=(-0.5, 0.5)).fit_transform(df_comp[predictors])\n",
    "df_tmp = df_comp.copy()\n",
    "df_comp = df_comp[predictors + [target_column]].dropna()\n",
    "X = df_comp[predictors].values\n",
    "y = df_comp[target_column].values\n",
    "bins = bins_map[target_column]\n",
    "y_binned = np.digitize(y, bins)\n",
    "param_grid = { \n",
    "    'n_estimators': [10, 50, 100],\n",
    "    'max_features': ['auto', 8, 9, 10, 11, 12],\n",
    "    'max_depth' : [15, 20, 25, 30],\n",
    "    'criterion' : ['mse', 'mae'],\n",
    "    'min_samples_split': [2, 3, 4]\n",
    "}\n",
    "\n",
    "rfc=RandomForestRegressor(random_state=42)\n",
    "kfold = StratifiedKFold(n_splits=5, shuffle=True, random_state=190195)\n",
    "CV_rfc_mae = GridSearchCV(estimator=rfc, param_grid=param_grid, cv=kfold.split(X, y_binned), verbose=1, scoring=['neg_mean_absolute_error', 'r2'], refit='neg_mean_absolute_error', n_jobs=-1)\n",
    "CV_rfc_mae.fit(X, y)\n",
    "CV_rfc_mae\n",
    "# CV_rfc_r2 = GridSearchCV(estimator=rfc, param_grid=param_grid, cv=kfold.split(X, y_binned), verbose=1, scoring=['neg_mean_absolute_error', 'r2'], refit='r2', n_jobs=-1)\n",
    "# CV_rfc_r2.fit(X, y)"
   ]
  },
  {
   "cell_type": "code",
   "execution_count": 14,
   "metadata": {},
   "outputs": [
    {
     "name": "stdout",
     "output_type": "stream",
     "text": [
      "-66.27190163934426\n",
      "{'criterion': 'mse', 'max_depth': 25, 'max_features': 11, 'min_samples_split': 2, 'n_estimators': 100}\n"
     ]
    }
   ],
   "source": [
    "print(CV_rfc_mae.best_score_)\n",
    "print(CV_rfc_mae.best_params_)\n",
    "\n",
    "# print(CV_rfc_r2.best_score_)\n",
    "# print(CV_rfc_r2.best_params_)\n",
    "cv_results = pd.DataFrame(CV_rfc_mae.cv_results_)\n",
    "cv_results.sort_values(by=['rank_test_neg_mean_absolute_error'])[['param_criterion', 'param_max_depth', 'param_max_features', 'param_min_samples_split', 'param_n_estimators', 'mean_test_r2', 'mean_test_neg_mean_absolute_error']].to_csv('{}_rf_mae.csv'.format(target_column))\n",
    "cv_results.sort_values(by=['rank_test_r2'])[['param_criterion', 'param_max_depth', 'param_max_features', 'param_min_samples_split', 'param_n_estimators', 'mean_test_r2', 'mean_test_neg_mean_absolute_error']].to_csv('{}_rf_r2.csv'.format(target_column))"
   ]
  },
  {
   "cell_type": "code",
   "execution_count": 50,
   "metadata": {},
   "outputs": [
    {
     "name": "stdout",
     "output_type": "stream",
     "text": [
      "Fitting 5 folds for each of 216 candidates, totalling 1080 fits\n"
     ]
    },
    {
     "name": "stderr",
     "output_type": "stream",
     "text": [
      "[Parallel(n_jobs=-1)]: Using backend LokyBackend with 12 concurrent workers.\n",
      "[Parallel(n_jobs=-1)]: Done  28 tasks      | elapsed:    0.6s\n",
      "[Parallel(n_jobs=-1)]: Done 328 tasks      | elapsed:    6.4s\n",
      "[Parallel(n_jobs=-1)]: Done 1038 tasks      | elapsed:   22.6s\n",
      "[Parallel(n_jobs=-1)]: Done 1080 out of 1080 | elapsed:   24.7s finished\n"
     ]
    },
    {
     "data": {
      "text/plain": [
       "GridSearchCV(cv=<generator object _BaseKFold.split at 0x0000021E02968EC8>,\n",
       "             estimator=XGBRegressor(base_score=None, booster=None,\n",
       "                                    colsample_bylevel=None,\n",
       "                                    colsample_bynode=None,\n",
       "                                    colsample_bytree=None, gamma=None,\n",
       "                                    gpu_id=None, importance_type='gain',\n",
       "                                    interaction_constraints=None,\n",
       "                                    learning_rate=None, max_delta_step=None,\n",
       "                                    max_depth=None, min_child_weight=None,\n",
       "                                    missing=na...\n",
       "                                    scale_pos_weight=None, subsample=None,\n",
       "                                    tree_method=None, validate_parameters=None,\n",
       "                                    verbosity=None),\n",
       "             n_jobs=-1,\n",
       "             param_grid={'booster': ['gbtree', 'gblinear', 'dart'],\n",
       "                         'eval_metric': ['rmse', 'mae'],\n",
       "                         'learning_rate': [0.01, 0.1, 0.3],\n",
       "                         'max_depth': [6, 10, 20, 30],\n",
       "                         'subsample': [0.3, 0.5, 1.0]},\n",
       "             refit='neg_mean_absolute_error',\n",
       "             scoring=['neg_mean_absolute_error', 'r2'], verbose=1)"
      ]
     },
     "execution_count": 50,
     "metadata": {},
     "output_type": "execute_result"
    }
   ],
   "source": [
    "import xgboost as xgb\n",
    "df_comp = df_org.copy()\n",
    "predictors_to_inc_degree = chemical_composition + heat_treatment\n",
    "\n",
    "new_predictors = predictors_to_inc_degree\n",
    "df_comp['log_10(ausf_czas_sec)'] = df_comp.apply(lambda row: np.log10(row['ausf_czas']*60), axis=1)\n",
    "other_predictors = ['grubosc']\n",
    "generated_predictors = ['log_10(ausf_czas_sec)']\n",
    "predictors = new_predictors + other_predictors + generated_predictors\n",
    "target_column = \"K\"\n",
    "df_before_scaling = df_comp.copy()\n",
    "df_comp[predictors] = MinMaxScaler(feature_range=(-0.5, 0.5)).fit_transform(df_comp[predictors])\n",
    "df_tmp = df_comp.copy()\n",
    "df_comp = df_comp[predictors + [target_column]].dropna()\n",
    "X = df_comp[predictors].values\n",
    "y = df_comp[target_column].values\n",
    "bins = bins_map[target_column]\n",
    "y_binned = np.digitize(y, bins)\n",
    "param_grid = {\n",
    "    'learning_rate': [0.01, 0.1, 0.3],\n",
    "    'subsample': [0.3, 0.5, 1.0],\n",
    "    'max_depth': [6, 10, 20, 30],\n",
    "    'eval_metric': ['rmse', 'mae'],\n",
    "    'booster': ['gbtree', 'gblinear', 'dart']\n",
    "}\n",
    "\n",
    "xgbr=xgb.XGBRegressor(random_state=42, n_jobs=1)\n",
    "kfold = StratifiedKFold(n_splits=5, shuffle=True, random_state=190195)\n",
    "CV_xgbr_mae = GridSearchCV(estimator=xgbr, param_grid=param_grid, cv=kfold.split(X, y_binned), verbose=1, scoring=['neg_mean_absolute_error', 'r2'], refit='neg_mean_absolute_error', n_jobs=-1)\n",
    "CV_xgbr_mae.fit(X, y)\n",
    "# xgbr=xgb.XGBRegressor(random_state=42, n_jobs=1)\n",
    "# CV_xgbr_r2 = GridSearchCV(estimator=xgbr, param_grid=param_grid, cv=kfold.split(X, y_binned), verbose=1, scoring=['neg_mean_absolute_error', 'r2'], refit='r2', n_jobs=-1)\n",
    "# CV_xgbr_r2.fit(X, y)"
   ]
  },
  {
   "cell_type": "code",
   "execution_count": 51,
   "metadata": {},
   "outputs": [
    {
     "name": "stdout",
     "output_type": "stream",
     "text": [
      "-12.719997389043023\n",
      "{'booster': 'dart', 'eval_metric': 'rmse', 'learning_rate': 0.1, 'max_depth': 30, 'subsample': 0.5}\n"
     ]
    }
   ],
   "source": [
    "print(CV_xgbr_mae.best_score_)\n",
    "print(CV_xgbr_mae.best_params_)\n",
    "\n",
    "cv_results = pd.DataFrame(CV_xgbr_mae.cv_results_)\n",
    "cv_results.sort_values(by=['rank_test_neg_mean_absolute_error'])[['param_learning_rate', 'param_subsample', 'param_max_depth', 'param_eval_metric', 'param_booster', 'mean_test_neg_mean_absolute_error', 'std_test_neg_mean_absolute_error']].to_csv('{}_xgbr_mae.csv'.format(target_column))\n",
    "cv_results.sort_values(by=['rank_test_r2'])[['param_learning_rate', 'param_subsample', 'param_max_depth', 'param_eval_metric', 'param_booster', 'mean_test_r2', 'std_test_r2']].to_csv('{}_xgbr_r2.csv'.format(target_column))"
   ]
  },
  {
   "cell_type": "code",
   "execution_count": 81,
   "metadata": {},
   "outputs": [
    {
     "data": {
      "text/plain": [
       "(500, 14)"
      ]
     },
     "execution_count": 81,
     "metadata": {},
     "output_type": "execute_result"
    }
   ],
   "source": [
    "import worker2\n",
    "import json\n",
    "from tqdm import tqdm\n",
    "from sklearn.model_selection import ParameterGrid\n",
    "from multiprocessing import Pool\n",
    "df_comp = df_org.copy()\n",
    "predictors_to_inc_degree = chemical_composition + heat_treatment\n",
    "\n",
    "new_predictors = predictors_to_inc_degree\n",
    "df_comp['log_10(ausf_czas_sec)'] = df_comp.apply(lambda row: np.log10(row['ausf_czas']*60), axis=1)\n",
    "other_predictors = ['grubosc']\n",
    "generated_predictors = ['log_10(ausf_czas_sec)']\n",
    "predictors = new_predictors + other_predictors + generated_predictors\n",
    "target_column = \"HB\"\n",
    "df_before_scaling = df_comp.copy()\n",
    "df_comp[predictors] = MinMaxScaler(feature_range=(-0.5, 0.5)).fit_transform(df_comp[predictors])\n",
    "df_tmp = df_comp.copy()\n",
    "df_comp = df_comp[predictors + [target_column]].dropna()\n",
    "X = df_comp[predictors].values\n",
    "y = df_comp[target_column].values\n",
    "bins = bins_map[target_column] #k\n",
    "y_binned = np.digitize(y, bins)\n",
    "if __name__ ==  '__main__': \n",
    "    params_grid= {\n",
    "        'kernel': [1e-1, 1e-2, 1e-3],\n",
    "        'bias': [1e-1, 1e-2, 1e-3],\n",
    "        'activity': [1e-1, 1e-2, 1e-3],\n",
    "        'units': [20, 30, 40],\n",
    "        'epochs': [500, 1000],\n",
    "        'batch_size': [32, 64],\n",
    "        'patience': [50, 100, 200],\n",
    "        'learning_rate': [0.1],\n",
    "        'data': [[X, y, y_binned]]\n",
    "    }\n",
    "    params_list = list(ParameterGrid(params_grid))\n",
    "    num_processors = 6\n",
    "    p = Pool(processes = num_processors)\n",
    "    \n",
    "    result_list_tqdm = []\n",
    "    for result in tqdm(p.imap_unordered(func=worker2.worker, iterable=params_list), total=len(params_list)):\n",
    "        result_list_tqdm.append(result)\n",
    "    p.close()\n",
    "    p.join()\n",
    "    with open('keras_HB.json', 'w') as outfile:\n",
    "        json.dump(result_list_tqdm, outfile)"
   ]
  },
  {
   "cell_type": "code",
   "execution_count": 5,
   "metadata": {},
   "outputs": [
    {
     "name": "stdout",
     "output_type": "stream",
     "text": [
      "40 & 1000 & 64 & 200 & 0.1 & 0.01 & 0.01 & 61.531\n",
      "40 & 1000 & 32 & 100 & 0.1 & 0.1 & 0.001 & 61.731\n",
      "40 & 500 & 32 & 200 & 0.1 & 0.1 & 0.01 & 62.037\n",
      "40 & 1000 & 64 & 100 & 0.1 & 0.01 & 0.1 & 62.540\n",
      "40 & 1000 & 32 & 200 & 0.1 & 0.001 & 0.01 & 62.786\n",
      "\n",
      "20 & 500 & 64 & 100 & 0.001 & 0.001 & 0.001 & 86.576\n"
     ]
    }
   ],
   "source": [
    "import json\n",
    "\n",
    "def get_best(keys, order, data):\n",
    "    best_vals = None\n",
    "    best_values = [data[0][k] for k in keys]\n",
    "    for i in range(1, len(data)):\n",
    "        values = [data[i][k] for k in keys]\n",
    "        new_best = True\n",
    "        for j, o in enumerate(order):\n",
    "            if o == \"max\":\n",
    "                new_best = values[j] > best_values[j]\n",
    "            if o == 'min':\n",
    "                new_best = values[j] < best_values[j]\n",
    "        if new_best:\n",
    "            best_values = values\n",
    "            best_vals = data[i]\n",
    "    return best_vals\n",
    "\n",
    " \n",
    "with open('keras_Rp02.json') as f:\n",
    "    results = json.load(f)\n",
    "\n",
    "\n",
    "# print('best mae,r2 {}'.format(get_best(['mae', 'r2'], ['min', 'max'], results)))\n",
    "# print('best mae {}'.format(get_best(['mae'], ['min'], results)))\n",
    "# print('best r2 {}'.format(get_best(['r2'], ['max'], results)))\n",
    "# results.sort(key=lambda x: x['r2'], reverse=True)\n",
    "# for r in range(5):\n",
    "#     res = results[r]\n",
    "#     print('{} & {} & {} & {} & {} & {} & {} & {:0.4f}'.format(res['units'], res['epochs'], res['batch_size'], res['patience'], res['kernel'], res['bias'], res['activity'], res['r2']))\n",
    "# print()\n",
    "# res = results[-1]\n",
    "# print('{} & {} & {} & {} & {} & {} & {} & {:0.4f}'.format(res['units'], res['epochs'], res['batch_size'], res['patience'], res['kernel'], res['bias'], res['activity'], res['r2']))\n",
    "\n",
    "results.sort(key=lambda x: x['mae'])\n",
    "for r in range(5):\n",
    "    res = results[r]\n",
    "    print('{} & {} & {} & {} & {} & {} & {} & {:0.3f}'.format(res['units'], res['epochs'], res['batch_size'], res['patience'], res['kernel'], res['bias'], res['activity'], res['mae']))\n",
    "print()\n",
    "res = results[-1]\n",
    "print('{} & {} & {} & {} & {} & {} & {} & {:0.3f}'.format(res['units'], res['epochs'], res['batch_size'], res['patience'], res['kernel'], res['bias'], res['activity'], res['mae']))"
   ]
  },
  {
   "cell_type": "code",
   "execution_count": 45,
   "metadata": {
    "colab": {},
    "colab_type": "code",
    "collapsed": false,
    "id": "N74zw3FUKn9f",
    "jupyter": {
     "outputs_hidden": false
    },
    "pycharm": {
     "name": "#%%\n"
    }
   },
   "outputs": [
    {
     "name": "stdout",
     "output_type": "stream",
     "text": [
      "14\n",
      "14\n"
     ]
    }
   ],
   "source": [
    "import tensorflow as tf\n",
    "# from tensorflow import keras\n",
    "# from tensorflow.keras import layers\n",
    "# from tensorflow.keras import regularizers\n",
    "# import tensorflow_docs as tfdocs\n",
    "# import tensorflow_docs.plots\n",
    "# import tensorflow_docs.modeling\n",
    "\n",
    "from numpy.random import seed\n",
    "seed(1234)\n",
    "\n",
    "tf.random.set_seed(5678)\n",
    "\n",
    "print(len(predictors))\n",
    "print(X.shape[1])"
   ]
  },
  {
   "cell_type": "code",
   "execution_count": 46,
   "metadata": {},
   "outputs": [
    {
     "name": "stderr",
     "output_type": "stream",
     "text": [
      "100%|██████████████████████████████████████████████████████████████████████████████| 250/250 [1:58:29<00:00, 28.44s/it]\n"
     ]
    }
   ],
   "source": [
    "import worker\n",
    "import json\n",
    "from tqdm import tqdm\n",
    "from sklearn.model_selection import ParameterGrid\n",
    "from multiprocessing import Pool\n",
    "\n",
    "if __name__ ==  '__main__': \n",
    "    params_grid= {\n",
    "    'kernel': [1e-1, 1e-2, 1e-3, 1e-4, 1e-5],\n",
    "    'bias': [1e-1, 1e-2, 1e-3, 1e-4, 1e-5],\n",
    "    'activity': [1e-1, 1e-2, 1e-3, 1e-4, 1e-5],\n",
    "    'units': [10, 25], \n",
    "    'data': [[X, y, y_binned]]\n",
    "    }\n",
    "    params_list = list(ParameterGrid(params_grid))\n",
    "    num_processors = 12\n",
    "    p = Pool(processes = num_processors)\n",
    "    \n",
    "    result_list_tqdm = []\n",
    "    for result in tqdm(p.imap_unordered(func=worker.worker, iterable=params_list), total=len(params_list)):\n",
    "        result_list_tqdm.append(result)\n",
    "    p.close()\n",
    "    p.join()\n",
    "    with open('data_a5.json', 'w') as outfile:\n",
    "        json.dump(result_list_tqdm, outfile)"
   ]
  },
  {
   "cell_type": "code",
   "execution_count": 47,
   "metadata": {},
   "outputs": [
    {
     "name": "stderr",
     "output_type": "stream",
     "text": [
      "100%|██████████████████████████████████████████████████████████████████████████████| 250/250 [2:10:56<00:00, 31.42s/it]\n"
     ]
    }
   ],
   "source": [
    "df_comp = df_org.copy()\n",
    "predictors_to_inc_degree = chemical_composition + heat_treatment\n",
    "\n",
    "new_predictors = predictors_to_inc_degree\n",
    "df_comp['log_10(ausf_czas_sec)'] = df_comp.apply(lambda row: np.log10(row['ausf_czas']*60), axis=1)\n",
    "other_predictors = ['grubosc']\n",
    "generated_predictors = ['log_10(ausf_czas_sec)']\n",
    "predictors = new_predictors + other_predictors + generated_predictors\n",
    "target_column = \"K\"\n",
    "df_before_scaling = df_comp.copy()\n",
    "df_comp[predictors] = MinMaxScaler(feature_range=(-0.5, 0.5)).fit_transform(df_comp[predictors])\n",
    "df_tmp = df_comp.copy()\n",
    "df_comp = df_comp[predictors + [target_column]].dropna()\n",
    "X = df_comp[predictors].values\n",
    "y = df_comp[target_column].values\n",
    "bins = bins_map[target_column] #k\n",
    "y_binned = np.digitize(y, bins)\n",
    "if __name__ ==  '__main__': \n",
    "    params_grid= {\n",
    "    'kernel': [1e-1, 1e-2, 1e-3, 1e-4, 1e-5],\n",
    "    'bias': [1e-1, 1e-2, 1e-3, 1e-4, 1e-5],\n",
    "    'activity': [1e-1, 1e-2, 1e-3, 1e-4, 1e-5],\n",
    "    'units': [10, 25], \n",
    "    'data': [[X, y, y_binned]]\n",
    "    }\n",
    "    params_list = list(ParameterGrid(params_grid))\n",
    "    num_processors = 12\n",
    "    p = Pool(processes = num_processors)\n",
    "    \n",
    "    result_list_tqdm = []\n",
    "    for result in tqdm(p.imap_unordered(func=worker.worker, iterable=params_list), total=len(params_list)):\n",
    "        result_list_tqdm.append(result)\n",
    "    p.close()\n",
    "    p.join()\n",
    "    with open('data_k.json', 'w') as outfile:\n",
    "        json.dump(result_list_tqdm, outfile)"
   ]
  },
  {
   "cell_type": "code",
   "execution_count": 94,
   "metadata": {},
   "outputs": [
    {
     "name": "stdout",
     "output_type": "stream",
     "text": [
      "units 25\n",
      "best mae,r2 {'kernel': 1e-05, 'bias': 0.0001, 'activity': 0.1, 'units': 25, 'mae': 69.51046171300553, 'r2': 0.766880531455568}\n",
      "best mae {'kernel': 0.001, 'bias': 0.01, 'activity': 0.0001, 'units': 25, 'mae': 68.00346564797795, 'r2': 0.7642746685339055}\n",
      "best r2 {'kernel': 1e-05, 'bias': 0.0001, 'activity': 0.1, 'units': 25, 'mae': 69.51046171300553, 'r2': 0.766880531455568}\n",
      "{'kernel': 1e-05, 'bias': 0.0001, 'activity': 0.1, 'units': 25, 'mae': 69.51046171300553, 'r2': 0.766880531455568}\n",
      "{'kernel': 0.001, 'bias': 1e-05, 'activity': 1e-05, 'units': 25, 'mae': 68.19447176585477, 'r2': 0.7646683831209674}\n",
      "{'kernel': 0.001, 'bias': 0.01, 'activity': 0.0001, 'units': 25, 'mae': 68.00346564797795, 'r2': 0.7642746685339055}\n",
      "units 10\n",
      "best mae,r2 {'kernel': 0.0001, 'bias': 1e-05, 'activity': 0.001, 'units': 10, 'mae': 74.18701430376838, 'r2': 0.7312239896823066}\n",
      "best mae {'kernel': 0.01, 'bias': 0.01, 'activity': 1e-05, 'units': 10, 'mae': 73.98363197954964, 'r2': 0.7277218874917877}\n",
      "best r2 {'kernel': 0.0001, 'bias': 1e-05, 'activity': 0.001, 'units': 10, 'mae': 74.18701430376838, 'r2': 0.7312239896823066}\n",
      "{'kernel': 0.0001, 'bias': 1e-05, 'activity': 0.001, 'units': 10, 'mae': 74.18701430376838, 'r2': 0.7312239896823066}\n",
      "{'kernel': 0.01, 'bias': 0.01, 'activity': 1e-05, 'units': 10, 'mae': 73.98363197954964, 'r2': 0.7277218874917877}\n",
      "{'kernel': 0.1, 'bias': 0.01, 'activity': 0.1, 'units': 10, 'mae': 76.01553193933823, 'r2': 0.7241640612100325}\n"
     ]
    }
   ],
   "source": [
    "import json\n",
    "\n",
    "def get_best(keys, order, data):\n",
    "    best_vals = None\n",
    "    best_values = [data[0][k] for k in keys]\n",
    "    for i in range(1, len(data)):\n",
    "        values = [data[i][k] for k in keys]\n",
    "        new_best = True\n",
    "        for j, o in enumerate(order):\n",
    "            if o == \"max\":\n",
    "                new_best = values[j] > best_values[j]\n",
    "            if o == 'min':\n",
    "                new_best = values[j] < best_values[j]\n",
    "        if new_best:\n",
    "            best_values = values\n",
    "            best_vals = data[i]\n",
    "    return best_vals\n",
    "\n",
    " \n",
    "with open('data_Rm.json') as f:\n",
    "    results_10_25 = json.load(f)\n",
    "\n",
    "results_25 = list(filter(lambda x: x['units'] == 25, results_10_25))\n",
    "print('units 25')\n",
    "print('best mae,r2 {}'.format(get_best(['mae', 'r2'], ['min', 'max'], results_25)))\n",
    "print('best mae {}'.format(get_best(['mae'], ['min'], results_25)))\n",
    "print('best r2 {}'.format(get_best(['r2'], ['max'], results_25)))\n",
    "results_25.sort(key=lambda x: x['r2'], reverse=True)\n",
    "for r in range(3):\n",
    "    print(results_25[r])\n",
    "\n",
    "\n",
    "results_10 = list(filter(lambda x: x['units'] == 10, results_10_25))\n",
    "print('units 10')\n",
    "print('best mae,r2 {}'.format(get_best(['mae', 'r2'], ['min', 'max'], results_10)))\n",
    "print('best mae {}'.format(get_best(['mae'], ['min'], results_10)))\n",
    "print('best r2 {}'.format(get_best(['r2'], ['max'], results_10)))\n",
    "results_10.sort(key=lambda x: x['r2'], reverse=True)\n",
    "for r in range(3):\n",
    "    print(results_10[r])"
   ]
  },
  {
   "cell_type": "code",
   "execution_count": 20,
   "metadata": {},
   "outputs": [
    {
     "name": "stdout",
     "output_type": "stream",
     "text": [
      "{'kernel': 0.1, 'bias': 1e-05, 'activity': 1e-05, 'units': 25, 'mae': 15.161674114184162, 'r2': 0.6732214316905397}\n",
      "{'kernel': 0.1, 'bias': 0.01, 'activity': 0.001, 'units': 25, 'mae': 15.067089699950923, 'r2': 0.6700302070285812}\n",
      "{'kernel': 0.1, 'bias': 0.01, 'activity': 0.1, 'units': 10, 'mae': 17.258454171860933, 'r2': 0.5709471179511467}\n",
      "{'kernel': 0.001, 'bias': 0.01, 'activity': 1e-05, 'units': 10, 'mae': 17.71462976122183, 'r2': 0.5690575199020445}\n"
     ]
    }
   ],
   "source": [
    "feature = 'K'\n",
    "\n",
    "with open('data_{}.json'.format(feature)) as f:\n",
    "    results_10_25 = json.load(f)\n",
    "\n",
    "results_25 = list(filter(lambda x: x['units'] == 25, results_10_25))\n",
    "results_25.sort(key=lambda x: x['r2'], reverse=True)\n",
    "results_10 = list(filter(lambda x: x['units'] == 10, results_10_25))\n",
    "results_10.sort(key=lambda x: x['r2'], reverse=True)\n",
    "\n",
    "print(results_25[0])\n",
    "print(results_25[1])\n",
    "print(results_10[0])\n",
    "print(results_10[1])"
   ]
  },
  {
   "cell_type": "code",
   "execution_count": 50,
   "metadata": {},
   "outputs": [
    {
     "name": "stderr",
     "output_type": "stream",
     "text": [
      "100%|████████████████████████████████████████████████████████████████████████████████| 112/112 [17:27<00:00,  9.35s/it]\n",
      "100%|████████████████████████████████████████████████████████████████████████████████| 112/112 [09:25<00:00,  5.05s/it]\n",
      "100%|████████████████████████████████████████████████████████████████████████████████| 112/112 [06:52<00:00,  3.68s/it]\n",
      "100%|████████████████████████████████████████████████████████████████████████████████| 112/112 [17:52<00:00,  9.58s/it]\n",
      "100%|████████████████████████████████████████████████████████████████████████████████| 112/112 [18:01<00:00,  9.66s/it]\n"
     ]
    }
   ],
   "source": [
    "import training_model_without_cv\n",
    "import json\n",
    "from tqdm import tqdm\n",
    "from sklearn.model_selection import ParameterGrid\n",
    "from multiprocessing import Pool\n",
    "import pickle\n",
    "\n",
    "df_comp = df_org.copy()\n",
    "predictors_to_inc_degree = chemical_composition + heat_treatment\n",
    "\n",
    "new_predictors = predictors_to_inc_degree\n",
    "df_comp['log_10(ausf_czas_sec)'] = df_comp.apply(lambda row: np.log10(row['ausf_czas']*60), axis=1)\n",
    "other_predictors = ['grubosc']\n",
    "generated_predictors = ['log_10(ausf_czas_sec)']\n",
    "predictors = new_predictors + other_predictors + generated_predictors\n",
    "target_column = \"K\"\n",
    "df_before_scaling = df_comp.copy()\n",
    "df_comp[predictors] = MinMaxScaler(feature_range=(-0.5, 0.5)).fit_transform(df_comp[predictors])\n",
    "df_tmp = df_comp.copy()\n",
    "df_comp = df_comp[predictors + [target_column]].dropna()\n",
    "X = df_comp[predictors].values\n",
    "y = df_comp[target_column].values\n",
    "bins = bins_map[target_column] \n",
    "y_binned = np.digitize(y, bins)\n",
    "\n",
    "feature = target_column\n",
    "\n",
    "with open('data_{}.json'.format(feature)) as f:\n",
    "    results_10_25 = json.load(f)\n",
    "\n",
    "results_25 = list(filter(lambda x: x['units'] == 25, results_10_25))\n",
    "results_25.sort(key=lambda x: x['r2'], reverse=True)\n",
    "results_10 = list(filter(lambda x: x['units'] == 10, results_10_25))\n",
    "results_10.sort(key=lambda x: x['r2'], reverse=True)\n",
    "\n",
    "regularization = [results_25[0], results_25[1],results_10[0], results_10[1]]\n",
    "\n",
    "def define_stacked_model(models):\n",
    "    model_input = Input(shape=models[0].input_shape[1:])\n",
    "    for i, m in enumerate(models):\n",
    "        m._name = str(i)\n",
    "    yModels = [model(model_input) for model in models] \n",
    "    \n",
    "    yAvg=layers.average(yModels)\n",
    "    modelEns = Model(inputs=model_input, outputs=yAvg, name='ensemble')\n",
    "    return modelEns\n",
    "\n",
    "def load_n_best_models(training_results, n, feature):\n",
    "    training_results.sort(key=lambda x: x['r2'], reverse=True)\n",
    "    models = []\n",
    "    for i in range(n):\n",
    "        params = training_results[i]\n",
    "        path = 'models_{}\\model_{}_{}_{}_{}.h5'.format(feature, params['units'], params['kernel'], params['bias'], params['activity'])\n",
    "        models.append(keras.models.load_model(path))\n",
    "    return models\n",
    "\n",
    "if __name__ ==  '__main__': \n",
    "    kfold = StratifiedKFold(n_splits=5, shuffle=True, random_state=190195)\n",
    "    i = 0\n",
    "    for train, test in kfold.split(X, y_binned):\n",
    "        models_params_grid = {\n",
    "            'units': [i for i in range(30, 2, -1)],\n",
    "            'regularization': regularization,\n",
    "            'data': [[X, y, train, test]],\n",
    "            'feature': [feature],\n",
    "            'split': [i]\n",
    "        }\n",
    "        params_list = list(ParameterGrid(models_params_grid))\n",
    "        num_processors = 12\n",
    "        p = Pool(processes = num_processors)\n",
    "        training_results = []\n",
    "        for result in tqdm(p.imap_unordered(func=training_model_without_cv.trainer, iterable=params_list), total=len(params_list)):\n",
    "            training_results.append(result)\n",
    "        p.close()\n",
    "        p.join()\n",
    "        \n",
    "        with open('training_{}/training_{}.dump'.format(feature, i), 'wb') as outfile:\n",
    "            pickle.dump(training_results, outfile)\n",
    "        i = i+1\n",
    "                \n",
    "\n",
    "# model_committee = define_stacked_model(load_n_best_models(training_results, 50, feature))\n",
    "        \n",
    "        "
   ]
  },
  {
   "cell_type": "code",
   "execution_count": 52,
   "metadata": {},
   "outputs": [
    {
     "name": "stderr",
     "output_type": "stream",
     "text": [
      "IOPub data rate exceeded.\n",
      "The notebook server will temporarily stop sending output\n",
      "to the client in order to avoid crashing it.\n",
      "To change this limit, set the config variable\n",
      "`--NotebookApp.iopub_data_rate_limit`.\n",
      "\n",
      "Current values:\n",
      "NotebookApp.iopub_data_rate_limit=1000000.0 (bytes/sec)\n",
      "NotebookApp.rate_limit_window=3.0 (secs)\n",
      "\n"
     ]
    }
   ],
   "source": [
    "training_results.sort(key=lambda x: x['r2'], reverse=True)\n",
    "for r in range(50):\n",
    "    print(training_results[r])"
   ]
  },
  {
   "cell_type": "code",
   "execution_count": 18,
   "metadata": {},
   "outputs": [
    {
     "data": {
      "text/plain": [
       "array([[413.12137],\n",
       "       [388.4637 ],\n",
       "       [347.9506 ],\n",
       "       [297.43372],\n",
       "       [279.25937],\n",
       "       [289.74484],\n",
       "       [326.84686],\n",
       "       [341.3744 ],\n",
       "       [346.79187],\n",
       "       [355.51562]], dtype=float32)"
      ]
     },
     "execution_count": 18,
     "metadata": {},
     "output_type": "execute_result"
    }
   ],
   "source": [
    "model = tf.keras.models.load_model('models_HB\\model_30_0.1_0.001_0.001.h5')\n",
    "model.predict(X[0:10])"
   ]
  },
  {
   "cell_type": "code",
   "execution_count": 79,
   "metadata": {},
   "outputs": [
    {
     "name": "stdout",
     "output_type": "stream",
     "text": [
      "Best Rm for metric r2 with value 0.7735907450489132 is {'bias': 1e-05, 'kernel': 0.001, 'activity': 1e-05, 'units': 20}\n",
      "Best Rp02 for metric r2 with value 0.789385855283173 is {'bias': 0.1, 'kernel': 0.1, 'activity': 1e-05, 'units': 20}\n",
      "Best A5 for metric r2 with value 0.6514034027077434 is {'bias': 0.0001, 'kernel': 0.001, 'activity': 1e-05, 'units': 17}\n",
      "Best HB for metric r2 with value 0.8206082588897686 is {'bias': 0.01, 'kernel': 0.1, 'activity': 1e-05, 'units': 29}\n",
      "Best K for metric r2 with value 0.666467730344624 is {'bias': 0.01, 'kernel': 0.1, 'activity': 0.001, 'units': 30}\n"
     ]
    },
    {
     "data": {
      "image/png": "[encoded data removed]",
      "text/plain": [
       "<Figure size 360x1440 with 6 Axes>"
      ]
     },
     "metadata": {
      "needs_background": "light"
     },
     "output_type": "display_data"
    },
    {
     "name": "stdout",
     "output_type": "stream",
     "text": [
      "Best Rm for metric mae with value 69.14734696691175 is {'bias': 0.0001, 'kernel': 1e-05, 'activity': 0.1, 'units': 26}\n",
      "Best Rp02 for metric mae with value 71.13597952420595 is {'bias': 0.01, 'kernel': 0.01, 'activity': 0.01, 'units': 28}\n",
      "Best A5 for metric mae with value 1.4988435614080657 is {'bias': 0.1, 'kernel': 0.001, 'activity': 0.001, 'units': 26}\n",
      "Best HB for metric mae with value 21.36653056435303 is {'bias': 0.001, 'kernel': 0.001, 'activity': 0.01, 'units': 17}\n",
      "Best K for metric mae with value 15.2689297231625 is {'bias': 0.01, 'kernel': 0.001, 'activity': 1e-05, 'units': 28}\n"
     ]
    },
    {
     "data": {
      "image/png": "[encoded data removed]",
      "text/plain": [
       "<Figure size 360x1440 with 6 Axes>"
      ]
     },
     "metadata": {
      "needs_background": "light"
     },
     "output_type": "display_data"
    }
   ],
   "source": [
    "import matplotlib.pyplot as plt\n",
    "import pickle\n",
    "\n",
    "def drop_stats(reg):\n",
    "    reg.pop('r2')\n",
    "    reg.pop('mae')\n",
    "    reg.pop('units')\n",
    "    return reg\n",
    "\n",
    "def get_regularization(prop):\n",
    "    with open('data_{}.json'.format(prop)) as f:\n",
    "        results_10_25 = json.load(f)\n",
    "\n",
    "    results_25 = list(filter(lambda x: x['units'] == 25, results_10_25))\n",
    "    results_25.sort(key=lambda x: x['r2'], reverse=True)\n",
    "    results_10 = list(filter(lambda x: x['units'] == 10, results_10_25))\n",
    "    results_10.sort(key=lambda x: x['r2'], reverse=True)\n",
    "\n",
    "    return [drop_stats(reg) for reg in [results_25[0], results_25[1],results_10[0], results_10[1]]]\n",
    "\n",
    "with open('training_Rm/training_0.dump', 'rb') as outfile:\n",
    "    training_results = pickle.load(outfile)\n",
    "    \n",
    "\n",
    "def plot_performance(training_results, metric, sharey=True):\n",
    "    fig, axes = plt.subplots(len(physical_properties), 5, figsize=(20, 20), sharex=True, sharey=sharey)    \n",
    "    for k, prop in enumerate(physical_properties):\n",
    "        regularization = get_regularization(prop)\n",
    "        for i in range(5):\n",
    "            with open('training_{}/training_{}.dump'.format(prop, i), 'rb') as outfile:\n",
    "                training_results = pickle.load(outfile)\n",
    "                x = [j for j in range(3, 31)]\n",
    "                ys = [[0 for _ in range(28)], [0 for _ in range(28)], [0 for _ in range(28)], [0 for _ in range(28)]]\n",
    "                for model_stats in training_results:\n",
    "                    units = model_stats['units']\n",
    "                    kernel = model_stats['kernel']\n",
    "                    bias = model_stats['bias']\n",
    "                    activity = model_stats['activity']\n",
    "                    val = model_stats[metric]\n",
    "                    reg_index = regularization.index({'kernel': kernel, 'bias': bias, 'activity': activity})\n",
    "                    ys[reg_index][units-3] = val\n",
    "                for j, y in enumerate(ys):\n",
    "                    axes[k, i].scatter(x, y, marker='+', label='b: {}, k: {}, a: {}'.format(regularization[j]['bias'], regularization[j]['kernel'], regularization[j]['activity'])) \n",
    "                axes[k, i].set_title('{} split: {}'.format(prop, i))\n",
    "                axes[k, i].legend()\n",
    "    # fig.tight_layout()\n",
    "    # plt.legend()\n",
    "    fig.add_subplot(111, frameon=False)\n",
    "    plt.xlabel('Units')\n",
    "    plt.tick_params(labelcolor='none', top=False, bottom=False, left=False, right=False)\n",
    "    plt.grid(False)\n",
    "    plt.ylabel(metric)\n",
    "    plt.savefig('perf_{}.png'.format(metric))\n",
    "    plt.show()\n",
    "    \n",
    "def plot_performance_avg(training_results, metric, sharey=True):\n",
    "    fig, axes = plt.subplots(len(physical_properties), 1, figsize=(5, 20), sharex=True, sharey=sharey)    \n",
    "    for k, prop in enumerate(physical_properties):\n",
    "        best = 0\n",
    "        best_props = None\n",
    "        regularization = get_regularization(prop)\n",
    "        x = [j for j in range(3, 31)]\n",
    "        ys = [[0 for _ in range(28)], [0 for _ in range(28)], [0 for _ in range(28)], [0 for _ in range(28)]]\n",
    "        for i in range(5):\n",
    "            with open('training_{}/training_{}.dump'.format(prop, i), 'rb') as outfile:\n",
    "                training_results = pickle.load(outfile)\n",
    "                for model_stats in training_results:\n",
    "                    units = model_stats['units']\n",
    "                    kernel = model_stats['kernel']\n",
    "                    bias = model_stats['bias']\n",
    "                    activity = model_stats['activity']\n",
    "                    val = model_stats[metric]\n",
    "                    reg_index = regularization.index({'kernel': kernel, 'bias': bias, 'activity': activity})\n",
    "                    ys[reg_index][units-3] += val\n",
    "                    \n",
    "        for j, y in enumerate(ys):\n",
    "            y = [v/5.0 for v in y]\n",
    "            y_to_sort = list(y)\n",
    "            y_to_sort.sort(reverse=metric=='r2')\n",
    "            best_val = y_to_sort[0]\n",
    "            \n",
    "            if best_val > best:\n",
    "                best = best_val\n",
    "                best_props = {\n",
    "                    'bias': regularization[j]['bias'],\n",
    "                    'kernel': regularization[j]['kernel'],\n",
    "                    'activity': regularization[j]['activity'],\n",
    "                    'units': x[y.index(best_val)]\n",
    "                }\n",
    "            axes[k].scatter(x, y, marker='+', label='b: {}, k: {}, a: {}'.format(regularization[j]['bias'], regularization[j]['kernel'], regularization[j]['activity'])) \n",
    "        axes[k].set_title('{} CV'.format(prop))\n",
    "        axes[k].legend()\n",
    "        print('Best {} for metric {} with value {} is {}'.format(prop, metric, best, best_props))\n",
    "    # fig.tight_layout()\n",
    "    # plt.legend()\n",
    "    fig.add_subplot(111, frameon=False)\n",
    "    plt.xlabel('Units')\n",
    "    plt.tick_params(labelcolor='none', top=False, bottom=False, left=False, right=False)\n",
    "    plt.grid(False)\n",
    "    plt.ylabel(metric)\n",
    "    plt.savefig('perf_avg_{}.png'.format(metric))\n",
    "    plt.show()\n",
    "    \n",
    "# def get_best_models_stats(training_results, metric):\n",
    "#     bests = {}\n",
    "#     for feature in physical_properties:\n",
    "#         val = 0.0\n",
    "#         for i in range(5):\n",
    "#             with open('training_{}/training_{}.dump'.format(feature, i), 'rb') as outfile:\n",
    "                \n",
    "\n",
    "# plot_performance(training_results, 'r2')\n",
    "# plot_performance(training_results, 'mae', sharey=False)\n",
    "plot_performance_avg(training_results, 'r2')\n",
    "\n",
    "plot_performance_avg(training_results, 'mae', sharey=False)"
   ]
  },
  {
   "cell_type": "code",
   "execution_count": 8,
   "metadata": {},
   "outputs": [
    {
     "name": "stdout",
     "output_type": "stream",
     "text": [
      "r2: 0.814044312394733, mae: 20.354589443181915\n",
      "r2: 0.8298273316424746, mae: 19.435787259737243\n",
      "r2: 0.830946244933342, mae: 19.437891768878952\n",
      "r2: 0.8299334835825085, mae: 19.515319322047354\n",
      "r2: 0.8297483986283478, mae: 19.552646112818838\n",
      "r2: 0.8302298419157618, mae: 19.518593049260893\n",
      "r2: 0.830732881971084, mae: 19.479539033147617\n",
      "r2: 0.8308319941371927, mae: 19.486600501653477\n",
      "r2: 0.8312452152235817, mae: 19.451302540227694\n",
      "r2: 0.8324169787307861, mae: 19.381202211994186\n",
      "r2: 0.8319554938165309, mae: 19.429197887043017\n",
      "r2: 0.8317534510334198, mae: 19.39709043132125\n",
      "r2: 0.8306924483183492, mae: 19.4942243661283\n",
      "r2: 0.8306514255898515, mae: 19.482385535561896\n",
      "r2: 0.8303917071351226, mae: 19.435819721685828\n",
      "r2: 0.8306642059115642, mae: 19.393830955237163\n",
      "r2: 0.831666005182458, mae: 19.311404422382807\n",
      "r2: 0.8321548214959684, mae: 19.272243467444195\n",
      "r2: 0.8310307706148035, mae: 19.4178242913249\n",
      "r2: 0.830802961647519, mae: 19.440101816584068\n",
      "r2: 0.8318175620876508, mae: 19.36598389123684\n",
      "r2: 0.8339152951551286, mae: 19.218039730530474\n",
      "r2: 0.8327950368923348, mae: 19.20909823662195\n",
      "r2: 0.8343318962785004, mae: 19.11185993868454\n",
      "r2: 0.8358894757308619, mae: 19.026308175199812\n",
      "r2: 0.8367718952175341, mae: 18.987956129590668\n",
      "r2: 0.8361443991592472, mae: 19.045844473868872\n",
      "r2: 0.8352241438490289, mae: 18.974454319099856\n",
      "r2: 0.8301752658871335, mae: 19.335294005923316\n",
      "r2: 0.8385098507723189, mae: 18.79905918071706\n",
      "r2: 0.8388938654120377, mae: 18.763832901827083\n",
      "r2: 0.8394507710323232, mae: 18.721883535778908\n",
      "r2: 0.8400264168569912, mae: 18.67257615459401\n",
      "r2: 0.8401473673156119, mae: 18.658815500881406\n",
      "r2: 0.8407315405333637, mae: 18.627692157469443\n",
      "r2: 0.8414417982848301, mae: 18.616629718504605\n",
      "r2: 0.8410163062208692, mae: 18.628023376951866\n",
      "r2: 0.8417575972776173, mae: 18.561305859862024\n",
      "r2: 0.8425953194148657, mae: 18.517883221922567\n",
      "r2: 0.8434485699305394, mae: 18.473365027342492\n",
      "r2: 0.8445532995199816, mae: 18.41449683886593\n",
      "r2: 0.8434219151846584, mae: 18.508176302027824\n",
      "r2: 0.8427309186002392, mae: 18.54006906380083\n",
      "r2: 0.8430300029701769, mae: 18.514031285135268\n",
      "r2: 0.8431287461934558, mae: 18.49706039452753\n",
      "r2: 0.8429519108628254, mae: 18.450343041554436\n",
      "r2: 0.8441165007515113, mae: 18.35188535415042\n",
      "r2: 0.8431090474754386, mae: 18.39153834975589\n",
      "r2: 0.8430772053071536, mae: 18.3666742465897\n",
      "r2: 0.8439142136598015, mae: 18.29753319671103\n",
      "r2: 0.8451463781420581, mae: 18.250904490074515\n",
      "r2: 0.8445933415315846, mae: 18.330744593834282\n",
      "r2: 0.8462115018480612, mae: 18.22485172213018\n",
      "r2: 0.8484176882087328, mae: 18.128122922691706\n",
      "r2: 0.849078579888212, mae: 18.062433153202498\n",
      "r2: 0.8430790486137013, mae: 18.33501011512472\n",
      "r2: 0.8455225325522558, mae: 18.251195823497632\n",
      "r2: 0.8461091197654671, mae: 18.296147544143455\n"
     ]
    }
   ],
   "source": [
    "import tensorflow as tf\n",
    "from tensorflow import keras\n",
    "from tensorflow.keras import layers\n",
    "from tensorflow.keras import Input\n",
    "from tensorflow.keras import Model\n",
    "import pickle\n",
    "\n",
    "def define_stacked_model(models):\n",
    "    model_input = Input(shape=models[0].input_shape[1:])\n",
    "    for i, m in enumerate(models):\n",
    "        m._name = 'model_{}'.format(i)\n",
    "    yModels = [model(model_input) for model in models] \n",
    "    \n",
    "    yAvg=layers.average(yModels)\n",
    "    modelEns = Model(inputs=model_input, outputs=yAvg, name='ensemble')\n",
    "    return modelEns\n",
    "\n",
    "loaded_models_cache = {}\n",
    "def load_models(training_results, feature, split, n):\n",
    "    models = []\n",
    "    for i in range(n):\n",
    "        params = training_results[i]\n",
    "        path = 'models_{}\\{}_model_{}_{}_{}_{}.h5'.format(feature, split, params['units'], params['kernel'], params['bias'], params['activity'])\n",
    "        if path in loaded_models_cache:\n",
    "            model = loaded_models_cache[path]\n",
    "        else:\n",
    "            model = keras.models.load_model(path)\n",
    "            loaded_models_cache[path] = model\n",
    "        models.append(model)\n",
    "    return models\n",
    "    \n",
    "def get_avg_best(training_results, metric):\n",
    "    result = list(training_results[0])\n",
    "    for tr in training_results:\n",
    "        tr.sort(key=lambda res: (res['units'], res['bias'], res['kernel'], res['activity']))\n",
    "    for i in range(1, 5):\n",
    "        for j in range(len(result)):\n",
    "            result[j][metric] += training_results[i][j][metric]\n",
    "    for j in range(len(result)):\n",
    "        result[j][metric] /= 5.0\n",
    "    result.sort(key=lambda res: res[metric], reverse=metric=='r2')\n",
    "    return result    \n",
    "\n",
    "def get_best_for_split(training_results, metric, split):\n",
    "    results = training_results[split]\n",
    "    results.sort(key=lambda res: res[metric], reverse=metric=='r2')\n",
    "    return results\n",
    "    \n",
    "\n",
    "df_comp = df_org.copy()\n",
    "predictors_to_inc_degree = chemical_composition + heat_treatment\n",
    "\n",
    "new_predictors = predictors_to_inc_degree\n",
    "df_comp['log_10(ausf_czas_sec)'] = df_comp.apply(lambda row: np.log10(row['ausf_czas']*60), axis=1)\n",
    "other_predictors = ['grubosc']\n",
    "generated_predictors = ['log_10(ausf_czas_sec)']\n",
    "predictors = new_predictors + other_predictors + generated_predictors\n",
    "target_column = \"HB\"\n",
    "df_before_scaling = df_comp.copy()\n",
    "df_comp[predictors] = MinMaxScaler(feature_range=(-0.5, 0.5)).fit_transform(df_comp[predictors])\n",
    "df_tmp = df_comp.copy()\n",
    "df_comp = df_comp[predictors + [target_column]].dropna()\n",
    "X = df_comp[predictors].values\n",
    "y = df_comp[target_column].values\n",
    "bins = bins_map[target_column] \n",
    "y_binned = np.digitize(y, bins)\n",
    "\n",
    "feature = target_column\n",
    "kfold = StratifiedKFold(n_splits=5, shuffle=True, random_state=190195)\n",
    "\n",
    "training_results = []\n",
    "for i in range(5):\n",
    "    with open('training_{}/training_{}.dump'.format(feature, i), 'rb') as outfile:\n",
    "        tr = pickle.load(outfile)\n",
    "        for t in tr:\n",
    "            t.pop('history')\n",
    "        training_results.append(tr)\n",
    "    \n",
    "def define_stacked_models_from_average_best(feature, training_results, metric, models_amount):\n",
    "    avg_best = get_avg_best(training_results, metric)\n",
    "    r2_sum= 0\n",
    "    mae_sum = 0\n",
    "    stats = {}\n",
    "    for i, train_test in enumerate(kfold.split(X, y_binned)):\n",
    "        train = train_test[0]\n",
    "        test = train_test[1]\n",
    "        models = load_models(avg_best, feature, i, models_amount)\n",
    "            \n",
    "        model_committee = define_stacked_model(models)\n",
    "        tf.keras.models.save_model(\n",
    "            model_committee,\n",
    "            'models_committee_{}\\{}_model_avg_{}_{}.h5'.format(feature, i, metric, models_amount),\n",
    "            save_format='h5'\n",
    "        )\n",
    "        train_predictions = model_committee.predict(X[train])\n",
    "        test_predictions = model_committee.predict(X[test])\n",
    "        mae_test = mean_absolute_error(y[test], test_predictions)\n",
    "        r2_test = r2_score(y[test], test_predictions)\n",
    "        stats[i] = {'r2': r2_test, 'mae': mae_test}\n",
    "        r2_sum += r2_test\n",
    "        mae_sum += mae_test\n",
    "    mae = mae_sum / 5\n",
    "    r2 = r2_sum / 5\n",
    "    print('r2: {}, mae: {}'.format(r2, mae))\n",
    "    return stats\n",
    "\n",
    "def define_stacked_models_from_best_for_split(feature, training_results, metric, models_amount):\n",
    "    r2_sum= 0\n",
    "    mae_sum = 0\n",
    "    stats = {}\n",
    "    for i, train_test in enumerate(kfold.split(X, y_binned)):\n",
    "        train = train_test[0]\n",
    "        test = train_test[1]\n",
    "        best_for_split = get_best_for_split(training_results, metric, i)\n",
    "        models = load_models(best_for_split, feature, i, models_amount)\n",
    "            \n",
    "        model_committee = define_stacked_model(models)\n",
    "        tf.keras.models.save_model(\n",
    "            model_committee,\n",
    "            'models_committee_{}\\{}_model_split_{}_{}.h5'.format(feature, i, metric, models_amount),\n",
    "            save_format='h5'\n",
    "        )\n",
    "        train_predictions = model_committee.predict(X[train])\n",
    "        test_predictions = model_committee.predict(X[test])\n",
    "        mae_test = mean_absolute_error(y[test], test_predictions)\n",
    "        r2_test = r2_score(y[test], test_predictions)\n",
    "        stats[i] = {'r2': r2_test, 'mae': mae_test}\n",
    "        r2_sum += r2_test\n",
    "        mae_sum += mae_test\n",
    "    mae = mae_sum / 5\n",
    "    r2 = r2_sum / 5\n",
    "    print('r2: {}, mae: {}'.format(r2, mae))\n",
    "    return stats\n",
    "        \n",
    "stats = {}\n",
    "for i in range(30, 1, -1):\n",
    "    stats[i] = define_stacked_models_from_average_best(feature, training_results, 'mae', i)\n",
    "    \n",
    "with open('{}_committee_avg_mae.json'.format(feature), 'w') as outfile:\n",
    "        json.dump(stats, outfile)\n",
    "for i in range(30, 1, -1):\n",
    "    stats[i] = define_stacked_models_from_best_for_split(feature, training_results, 'mae', i)\n",
    "    \n",
    "with open('{}_committee_split_mae.json'.format(feature), 'w') as outfile:\n",
    "        json.dump(stats, outfile)"
   ]
  },
  {
   "cell_type": "code",
   "execution_count": 77,
   "metadata": {},
   "outputs": [
    {
     "name": "stdout",
     "output_type": "stream",
     "text": [
      "0.924154413717045\n",
      "13.01575641139518\n"
     ]
    }
   ],
   "source": [
    "y_test = model_committee.predict(X)\n",
    "r2_test = r2_score(y, y_test)\n",
    "mae_test = mean_absolute_error(y, y_test)\n",
    "# max_e = max_error(y, y_test)\n",
    "print(r2_test)\n",
    "print(mae_test)\n",
    "# print(max_e)"
   ]
  },
  {
   "cell_type": "code",
   "execution_count": null,
   "metadata": {},
   "outputs": [],
   "source": []
  },
  {
   "cell_type": "code",
   "execution_count": 20,
   "metadata": {},
   "outputs": [
    {
     "data": {
      "image/png": "[encoded data removed]",
      "text/plain": [
       "<Figure size 432x288 with 1 Axes>"
      ]
     },
     "metadata": {
      "needs_background": "light"
     },
     "output_type": "display_data"
    },
    {
     "data": {
      "image/png": "[encoded data removed]",
      "text/plain": [
       "<Figure size 432x288 with 1 Axes>"
      ]
     },
     "metadata": {
      "needs_background": "light"
     },
     "output_type": "display_data"
    },
    {
     "data": {
      "image/png": "[encoded data removed]",
      "text/plain": [
       "<Figure size 432x288 with 1 Axes>"
      ]
     },
     "metadata": {
      "needs_background": "light"
     },
     "output_type": "display_data"
    },
    {
     "data": {
      "image/png": "[encoded data removed]",
      "text/plain": [
       "<Figure size 432x288 with 1 Axes>"
      ]
     },
     "metadata": {
      "needs_background": "light"
     },
     "output_type": "display_data"
    }
   ],
   "source": [
    "import matplotlib.pyplot as plt\n",
    "\n",
    "def plot_committee_stats(stats_file, metric, title, filename):\n",
    "    with open(stats_file, 'r') as file:\n",
    "        stats = json.load(file)\n",
    "    x = []\n",
    "    y = []\n",
    "    for units in range(2, 31):\n",
    "        suum = 0.0\n",
    "        for split in stats[str(units)]:\n",
    "            suum +=stats[str(units)][split][metric]\n",
    "        x.append(units)\n",
    "        y.append(suum/5.0)\n",
    "    plt.scatter(x,y, marker='+')\n",
    "    plt.title(title)\n",
    "    plt.xlabel('models')\n",
    "    plt.ylabel(metric)\n",
    "    plt.savefig('{}_{}.png'.format(filename, metric))\n",
    "    plt.show()\n",
    "    \n",
    "feature = 'Rm'\n",
    "\n",
    "# plot_committee_stats('committee_split.json'.format(feature), 'r2', 'Committee split')\n",
    "# plot_committee_stats('committee_avg.json', 'r2', 'Committee avg')\n",
    "plot_committee_stats('{}_committee_split_mae.json'.format(feature), 'mae', '{} - Committee for best in split'.format(feature), '{}_split'.format(feature))\n",
    "plot_committee_stats('{}_committee_avg_mae.json'.format(feature), 'mae', '{} - Committee for average best'.format(feature), '{}_avg'.format(feature))\n",
    "plot_committee_stats('{}_committee_split_r2.json'.format(feature), 'r2', '{} - Committee for best in split'.format(feature),'{}_split'.format(feature))\n",
    "plot_committee_stats('{}_committee_avg_r2.json'.format(feature), 'r2', '{} - Committee for average best'.format(feature),'{}_avg'.format(feature))"
   ]
  },
  {
   "cell_type": "code",
   "execution_count": 41,
   "metadata": {},
   "outputs": [
    {
     "name": "stdout",
     "output_type": "stream",
     "text": [
      "avg & r2 & 8 & 0.683 & 14.732 \\\\\n",
      "avg & mae & 10 & 0.686 & 14.387 \\\\\n",
      "split & r2 & 5 & 0.712 & 13.808 \\\\\n",
      "split & mae & 4 & 0.713 & 13.612 \\\\\n"
     ]
    }
   ],
   "source": [
    "def get_best_committee(stats_file, metric, strategy):\n",
    "    with open(stats_file, 'r') as file:\n",
    "        stats = json.load(file)\n",
    "    final_stats = {}\n",
    "    for units in range(2, 31):\n",
    "        suum_mae = 0.0\n",
    "        suum_r2 = 0.0\n",
    "        for split in stats[str(units)]:\n",
    "            suum_mae +=stats[str(units)][split]['mae']\n",
    "            suum_r2 += stats[str(units)][split]['r2']\n",
    "        final_stats[units]={'mae': suum_mae/5.0, 'r2' : suum_r2/5.0}\n",
    "    sorted_stats = sorted(final_stats.items(), key=lambda kv: kv[1][metric], reverse=metric=='r2')\n",
    "    return '{} & {} & {} & {:0.3f} & {:0.3f} \\\\\\\\'.format(strategy, metric, sorted_stats[0][0], sorted_stats[0][1]['r2'], sorted_stats[0][1]['mae'])\n",
    "#     plt.scatter(x,y, marker='+')\n",
    "#     plt.title(title)\n",
    "#     plt.xlabel('models')\n",
    "#     plt.ylabel(metric)\n",
    "#     plt.savefig('{}_{}.png'.format(filename, metric))\n",
    "#     plt.show()\n",
    "\n",
    "feature = 'K'\n",
    "print(get_best_committee('{}_committee_avg_r2.json'.format(feature), 'r2', 'avg'))\n",
    "print(get_best_committee('{}_committee_avg_mae.json'.format(feature), 'mae', 'avg'))\n",
    "print(get_best_committee('{}_committee_split_r2.json'.format(feature), 'r2', 'split'))\n",
    "print(get_best_committee('{}_committee_split_mae.json'.format(feature), 'mae', 'split'))"
   ]
  },
  {
   "cell_type": "code",
   "execution_count": null,
   "metadata": {},
   "outputs": [],
   "source": []
  },
  {
   "cell_type": "code",
   "execution_count": null,
   "metadata": {},
   "outputs": [],
   "source": [
    "# from sklearn.model_selection import ParameterGrid\n",
    "\n",
    "# params_grid= {\n",
    "#     'kernel': [1e-2, 1e-3, 1e-4],\n",
    "#     'bias': [1e-2, 1e-3, 1e-4],\n",
    "#     'activity': [1e-2, 1e-3]\n",
    "# }\n",
    "# kfold = StratifiedKFold(n_splits=5, shuffle=True, random_state=190195)\n",
    "# params_list = list(ParameterGrid(params_grid))\n",
    "# scores = {}\n",
    "# for i, params in enumerate(params_list):\n",
    "#     print(params)\n",
    "#     maescores = []\n",
    "#     r2scores = []\n",
    "#     for train, test in kfold.split(X, y_binned):\n",
    "#         model = keras.Sequential()\n",
    "#         model.add(layers.Dense(16, activation='tanh', \n",
    "#                                kernel_regularizer=regularizers.l2(params['kernel']),\n",
    "#                                bias_regularizer=regularizers.l2(params['bias']),\n",
    "#                                activity_regularizer=regularizers.l2(params['activity']),\n",
    "#                                input_shape=[len(predictors)]))\n",
    "#         model.add(layers.Dense(1))\n",
    "#         model.compile(loss='mse', optimizer=tf.keras.optimizers.Adam(learning_rate=0.01), metrics=['mae', 'mse'])\n",
    "        \n",
    "#         early_stop = keras.callbacks.EarlyStopping(monitor='val_loss', patience=100)\n",
    "#         history = model.fit(X[train], y[train], epochs=3000,\n",
    "#                               batch_size=10, verbose=0,\n",
    "#                               validation_data=(X[test], y[test]),\n",
    "#                               callbacks=[early_stop])\n",
    "#         train_predictions = model.predict(X[train])\n",
    "#         test_predictions = model.predict(X[test])\n",
    "#         print()\n",
    "#         mae_test = max_error(y[test], test_predictions)\n",
    "#         maescores.append(mae_test)\n",
    "#         r2_test = r2_score(y[test], test_predictions)\n",
    "#         r2scores.append(r2_test)\n",
    "#         print(\"train_max_error: {}\".format(max_error(y[train], train_predictions)))\n",
    "#         print(\"test_max_error: {}\".format(mae_test))\n",
    "#         print('Train R2 = {:0.2f}.'.format(r2_score(y[train], train_predictions)))\n",
    "#         print('Test R2 = {:0.2f}.'.format(r2_test))\n",
    "#     print()\n",
    "#     print('avg mae: {:0.2f}'.format(sum(maescores)/len(maescores)))\n",
    "#     print('avg r2: {:0.2f}'.format(sum(r2scores)/len(r2scores)))\n",
    "#     scores[i] = {'mae': sum(maescores)/len(maescores), 'r2': sum(r2scores)/len(r2scores)}"
   ]
  },
  {
   "cell_type": "code",
   "execution_count": 23,
   "metadata": {},
   "outputs": [
    {
     "name": "stdout",
     "output_type": "stream",
     "text": [
      "{'activity': 0.001, 'bias': 0.001, 'kernel': 0.001}\n",
      "{'activity': 0.0001, 'bias': 0.001, 'kernel': 0.001}\n",
      "{'activity': 0.0001, 'bias': 0.0001, 'kernel': 0.001}\n"
     ]
    }
   ],
   "source": [
    "# scores_3_4_5 = list(scores)\n",
    "# params_3_4_5 = list(params_list)\n",
    "# best = [0, 9, 12]\n",
    "\n",
    "# for i in best:\n",
    "#     print(params_3_4_5[i])"
   ]
  },
  {
   "cell_type": "code",
   "execution_count": 77,
   "metadata": {},
   "outputs": [],
   "source": [
    "# best_model = None\n",
    "# best_score = 10000000\n",
    "# kfold = StratifiedKFold(n_splits=5, shuffle=True, random_state=51)\n",
    "# for units in range(22, 1, -1):\n",
    "#     print('======================================================================')\n",
    "#     print('Units ' + str(units))\n",
    "#     maescores = []\n",
    "#     r2scores = []\n",
    "#     for train, test in kfold.split(X, y_binned):\n",
    "#         model = keras.Sequential()\n",
    "#         model.add(layers.Dense(units, activation='tanh', \n",
    "#                                kernel_regularizer=regularizers.l2(1e-4),\n",
    "#                                bias_regularizer=regularizers.l2(1e-4),\n",
    "#                                activity_regularizer=regularizers.l2(1e-5),\n",
    "#                                input_shape=[len(predictors)]))\n",
    "#         model.add(layers.Dense(1))\n",
    "#         model.compile(loss='mse', optimizer=tf.keras.optimizers.Adam(learning_rate=0.01), metrics=['mae', 'mse'])\n",
    "        \n",
    "#         early_stop = keras.callbacks.EarlyStopping(monitor='val_loss', patience=100)\n",
    "#         history = model.fit(X[train], y[train], epochs=3000,\n",
    "#                               batch_size=10, verbose=0,\n",
    "#                               validation_data=(X[test], y[test]),\n",
    "#                               callbacks=[early_stop])\n",
    "# #          callbacks=[early_stop, tfdocs.modeling.EpochDots()])\n",
    "# #         plt.plot(history.history['mae'], label='train')\n",
    "# #         plt.plot(history.history['val_mae'], label='test')\n",
    "# #         plt.legend()\n",
    "# #         plt.show()\n",
    "#         train_predictions = model.predict(X[train])\n",
    "#         test_predictions = model.predict(X[test])\n",
    "#         print()\n",
    "#         mae_test = max_error(y[test], test_predictions)\n",
    "#         maescores.append(mae_test)\n",
    "#         r2_test = r2_score(y[test], test_predictions)\n",
    "#         r2scores.append(r2_test)\n",
    "#         print(\"train_max_error: {}\".format(max_error(y[train], train_predictions)))\n",
    "#         print(\"test_max_error: {}\".format(mae_test))\n",
    "#         print('Train R2 = {:0.2f}.'.format(r2_score(y[train], train_predictions)))\n",
    "#         print('Test R2 = {:0.2f}.'.format(r2_test))\n",
    "#     print()\n",
    "#     print('avg mae: {:0.2f}'.format(sum(maescores)/len(maescores)))\n",
    "#     print('avg r2: {:0.2f}'.format(sum(r2scores)/len(r2scores)))"
   ]
  },
  {
   "cell_type": "code",
   "execution_count": 15,
   "metadata": {
    "colab": {},
    "colab_type": "code",
    "id": "FM5tJuQmKn9k",
    "outputId": "b09c1785-dcaf-4cad-934e-f22158c04fca"
   },
   "outputs": [
    {
     "ename": "ModuleNotFoundError",
     "evalue": "No module named 'xgboost'",
     "output_type": "error",
     "traceback": [
      "\u001b[1;31m---------------------------------------------------------------------------\u001b[0m",
      "\u001b[1;31mModuleNotFoundError\u001b[0m                       Traceback (most recent call last)",
      "\u001b[1;32m<ipython-input-15-00f22bfbdd82>\u001b[0m in \u001b[0;36m<module>\u001b[1;34m\u001b[0m\n\u001b[1;32m----> 1\u001b[1;33m \u001b[1;32mimport\u001b[0m \u001b[0mxgboost\u001b[0m \u001b[1;32mas\u001b[0m \u001b[0mxgb\u001b[0m\u001b[1;33m\u001b[0m\u001b[1;33m\u001b[0m\u001b[0m\n\u001b[0m\u001b[0;32m      2\u001b[0m \u001b[1;32mfrom\u001b[0m \u001b[0msklearn\u001b[0m\u001b[1;33m.\u001b[0m\u001b[0mmetrics\u001b[0m \u001b[1;32mimport\u001b[0m \u001b[0mmean_absolute_error\u001b[0m\u001b[1;33m\u001b[0m\u001b[1;33m\u001b[0m\u001b[0m\n\u001b[0;32m      3\u001b[0m \u001b[0mbest_model\u001b[0m \u001b[1;33m=\u001b[0m \u001b[1;32mNone\u001b[0m\u001b[1;33m\u001b[0m\u001b[1;33m\u001b[0m\u001b[0m\n\u001b[0;32m      4\u001b[0m \u001b[0mbest_score\u001b[0m \u001b[1;33m=\u001b[0m \u001b[1;36m10000000\u001b[0m\u001b[1;33m\u001b[0m\u001b[1;33m\u001b[0m\u001b[0m\n\u001b[0;32m      5\u001b[0m \u001b[0mX_train\u001b[0m\u001b[1;33m,\u001b[0m \u001b[0mX_test\u001b[0m \u001b[1;33m=\u001b[0m \u001b[1;32mNone\u001b[0m\u001b[1;33m,\u001b[0m \u001b[1;32mNone\u001b[0m\u001b[1;33m\u001b[0m\u001b[1;33m\u001b[0m\u001b[0m\n",
      "\u001b[1;31mModuleNotFoundError\u001b[0m: No module named 'xgboost'"
     ]
    }
   ],
   "source": [
    "import xgboost as xgb\n",
    "from sklearn.metrics import mean_absolute_error\n",
    "best_model = None\n",
    "best_score = 10000000\n",
    "X_train, X_test = None, None\n",
    "y_train, y_test = None, None\n",
    "mse_cvscores = []\n",
    "mae_cvscores = []\n",
    "kfold = StratifiedKFold(n_splits=10, shuffle=True, random_state=52)\n",
    "for train, test in kfold.split(X, y_binned):\n",
    "    model = xgb.XGBRegressor()\n",
    "    model.fit(X[train], y[train], eval_set=[(X[test], y[test])], eval_metric='rmse', early_stopping_rounds=3, verbose=0)\n",
    "    train_predictions = model.predict(X[train])\n",
    "    test_predictions = model.predict(X[test])\n",
    "    print(\"train_mae: {}\".format(mean_absolute_error(y[train], train_predictions)))\n",
    "    score = mean_squared_error(y[test], test_predictions)\n",
    "    mae = mean_absolute_error(y[test], test_predictions)\n",
    "    print(\"test_mae: {}\".format(mean_absolute_error(y[test], test_predictions)))\n",
    "    print(\"train_max_error: {}\".format(max_error(y[train], train_predictions)))\n",
    "    print(\"test_max_error: {}\".format(max_error(y[test], test_predictions)))\n",
    "    print('Train R2 = {:0.2f}.'.format(r2_score(y[train], train_predictions)))\n",
    "    print('Test R2 = {:0.2f}.'.format(r2_score(y[test], test_predictions)))\n",
    "    print()\n",
    "    mse_cvscores.append(score)\n",
    "    mae_cvscores.append(mae)\n",
    "    if score < best_score:\n",
    "        X_train, y_train = X[train], y[train]\n",
    "        X_test, y_test = X[test], y[test]\n",
    "        best_model = model\n",
    "        best_score = score\n",
    "print(\"MSE {:.2f} (+/- {:.2f})\".format(np.mean(mse_cvscores), np.std(mse_cvscores)))\n",
    "print(\"MAE {:.2f} (+/- {:.2f})\".format(np.mean(mae_cvscores), np.std(mae_cvscores)))"
   ]
  },
  {
   "cell_type": "code",
   "execution_count": 200,
   "metadata": {
    "colab": {},
    "colab_type": "code",
    "collapsed": false,
    "id": "QDGPkBM_Kn9m",
    "jupyter": {
     "outputs_hidden": false
    },
    "pycharm": {
     "name": "#%%\n"
    }
   },
   "outputs": [],
   "source": [
    "# def get_parameters(dff):\n",
    "#     cc = dff[chemical_composition].to_dict()\n",
    "#     ht = dff[heat_treatment].to_dict()\n",
    "#     other = dff[other_predictors]\n",
    "#     params = {\n",
    "#         \"chemicalComposition\": cc,\n",
    "#         \"heatTreatment\": ht,\n",
    "#     }\n",
    "#     params.update(other)\n",
    "#     return params\n",
    "\n",
    "# min_values = df_before_scaling[predictors].min()\n",
    "# max_values = df_before_scaling[predictors].max()"
   ]
  },
  {
   "cell_type": "code",
   "execution_count": 201,
   "metadata": {
    "colab": {},
    "colab_type": "code",
    "collapsed": false,
    "id": "4mNYLtr3Kn9o",
    "jupyter": {
     "outputs_hidden": false
    },
    "pycharm": {
     "name": "#%%\n"
    }
   },
   "outputs": [],
   "source": [
    "# conf = {\n",
    "#     \"modelInput\" : predictors,\n",
    "#     \"minParams\" : get_parameters(min_values),\n",
    "# #     \"maxParams\" : get_parameters(max_values),\n",
    "#     \"offset\" : 0.5,\n",
    "# }\n",
    "# with open(\"k_model_conf.json\", 'w') as f:\n",
    "#     json.dump(conf, f)\n",
    "\n",
    "# best_model.save_model(\"k_xgb.bin\")"
   ]
  },
  {
   "cell_type": "code",
   "execution_count": null,
   "metadata": {
    "colab": {},
    "colab_type": "code",
    "collapsed": false,
    "id": "3mC76exaKn9q",
    "jupyter": {
     "outputs_hidden": false
    },
    "outputId": "0b593bd1-3610-467c-d004-251604215bd7",
    "pycharm": {
     "name": "#%%\n"
    }
   },
   "outputs": [
    {
     "name": "stdout",
     "output_type": "stream",
     "text": [
      "Max error 81.19888916015623 for (362.9, 281.7011)\n"
     ]
    },
    {
     "data": {
      "image/png": "[encoded data removed]",
      "text/plain": [
       "<Figure size 432x288 with 1 Axes>"
      ]
     },
     "metadata": {
      "needs_background": "light",
      "tags": []
     },
     "output_type": "display_data"
    }
   ],
   "source": [
    "# test_predictions = best_model.predict(X_test)\n",
    "# print('Max error {} for {}'.format(max_error(y_test, test_predictions), str(find_max_error(y_test, test_predictions))))\n",
    "\n",
    "# a = plt.axes(aspect='equal')\n",
    "# plt.title('Test set, count {}'.format(y_test.shape[0]))\n",
    "# plt.scatter(y_test, test_predictions)\n",
    "# plt.xlabel('True Values [{}]'.format(target_column))\n",
    "# plt.ylabel('Predictions [{}]'.format(target_column))\n",
    "# lims = [min(y_test)-np.std(y_test), max(y_test)+np.std(y_test)]\n",
    "# plt.xlim(lims)\n",
    "# plt.ylim(lims)\n",
    "# _ = plt.plot(lims, lims)"
   ]
  },
  {
   "cell_type": "code",
   "execution_count": null,
   "metadata": {
    "colab": {},
    "colab_type": "code",
    "id": "S2SGzL-_Kn9t",
    "outputId": "90a82505-4189-420b-9135-21aba91cc80b"
   },
   "outputs": [
    {
     "name": "stdout",
     "output_type": "stream",
     "text": [
      "Max error 36.911968994140636 for (277.2, 314.11197)\n"
     ]
    },
    {
     "data": {
      "image/png": "[encoded data removed]",
      "text/plain": [
       "<Figure size 432x288 with 1 Axes>"
      ]
     },
     "metadata": {
      "needs_background": "light",
      "tags": []
     },
     "output_type": "display_data"
    }
   ],
   "source": [
    "# train_predictions = best_model.predict(X_train)\n",
    "# print('Max error {} for {}'.format(max_error(y_train, train_predictions), str(find_max_error(y_train, train_predictions))))\n",
    "\n",
    "# a = plt.axes(aspect='equal')\n",
    "# plt.title('Train set, count {}'.format(y_train.shape[0]))\n",
    "# plt.scatter(y_train, train_predictions)\n",
    "# plt.xlabel('True Values [{}]'.format(target_column))\n",
    "# plt.ylabel('Predictions [{}]'.format(target_column))\n",
    "# lims = [min(y_train)-np.std(y_train), max(y_train)+np.std(y_train)]\n",
    "# plt.xlim(lims)\n",
    "# plt.ylim(lims)\n",
    "# _ = plt.plot(lims, lims)"
   ]
  },
  {
   "cell_type": "code",
   "execution_count": null,
   "metadata": {
    "colab": {},
    "colab_type": "code",
    "collapsed": false,
    "id": "Iv-WC_uGKn9w",
    "jupyter": {
     "outputs_hidden": false
    },
    "outputId": "a1a0cc3f-fc2c-4f32-924d-a3dc4a65856b",
    "pycharm": {
     "name": "#%%\n"
    }
   },
   "outputs": [
    {
     "data": {
      "image/png": "[encoded data removed]",
      "text/plain": [
       "<Figure size 432x288 with 1 Axes>"
      ]
     },
     "metadata": {
      "needs_background": "light",
      "tags": []
     },
     "output_type": "display_data"
    }
   ],
   "source": [
    "# test_error = abs(test_predictions - y_test)\n",
    "# # test_error = abs(test_predictions - y_test.reshape(-1, 1))\n",
    "# plt.hist(test_error, bins = 15)\n",
    "# plt.title('Test Set, count {}'.format(y_test.shape[0]))\n",
    "# plt.xlabel('Prediction Error [{}]'.format(target_column))\n",
    "# _ = plt.ylabel(\"Count\")\n",
    "# plt.show()"
   ]
  },
  {
   "cell_type": "code",
   "execution_count": null,
   "metadata": {
    "colab": {},
    "colab_type": "code",
    "collapsed": false,
    "id": "JUgFyHXzKn9y",
    "jupyter": {
     "outputs_hidden": false
    },
    "outputId": "224ecd72-02fb-4623-ec94-da4b74c3513f",
    "pycharm": {
     "name": "#%%\n"
    }
   },
   "outputs": [
    {
     "data": {
      "image/png": "[encoded data removed]",
      "text/plain": [
       "<Figure size 432x288 with 1 Axes>"
      ]
     },
     "metadata": {
      "needs_background": "light",
      "tags": []
     },
     "output_type": "display_data"
    }
   ],
   "source": [
    "# train_error = abs(train_predictions - y_train)\n",
    "# # train_error = abs(train_predictions - y_train.reshape(-1, 1))\n",
    "# plt.hist(train_error, bins = 15)\n",
    "# plt.title('Train Set, count {}'.format(y_train.shape[0]))\n",
    "# plt.xlabel('Prediction Error [{}]'.format(target_column))\n",
    "# _ = plt.ylabel(\"Count\")\n",
    "# plt.show()"
   ]
  },
  {
   "cell_type": "code",
   "execution_count": null,
   "metadata": {
    "colab": {},
    "colab_type": "code",
    "collapsed": false,
    "id": "LW3Jw5r5Kn90",
    "jupyter": {
     "outputs_hidden": false
    },
    "pycharm": {
     "name": "#%%\n"
    }
   },
   "outputs": [],
   "source": [
    "# df_new = DataFrame()\n",
    "# df_new[target_column] = df_tmp[target_column]\n",
    "# df_new['{}_predicted'.format(target_column)] = df_tmp.apply(fill, axis = 1, args=(predictors, best_model))\n",
    "# df_new.to_csv('{}_predicted.csv'.format(target_column))\n"
   ]
  },
  {
   "cell_type": "code",
   "execution_count": null,
   "metadata": {
    "colab": {},
    "colab_type": "code",
    "collapsed": false,
    "id": "V5oK0EbNKn92",
    "jupyter": {
     "outputs_hidden": false
    },
    "pycharm": {
     "name": "#%%\n"
    }
   },
   "outputs": [],
   "source": [
    "# df_new = DataFrame()\n",
    "# df_new[target_column] = df_tmp[target_column]\n",
    "# df_new['{}_predicted'.format(target_column)] = df_tmp.apply(fill, axis = 1, args=(predictors, best_model))\n",
    "# df_new.to_csv('{}_predicted.csv'.format(target_column))\n"
   ]
  },
  {
   "cell_type": "code",
   "execution_count": null,
   "metadata": {
    "colab": {},
    "colab_type": "code",
    "collapsed": false,
    "id": "EylOf28hKn94",
    "jupyter": {
     "outputs_hidden": false
    },
    "pycharm": {
     "name": "#%%\n"
    }
   },
   "outputs": [],
   "source": [
    "# # train_error = abs(train_predictions - y_train)\n",
    "# train_error = abs(train_predictions - y_train.reshape(-1, 1))\n",
    "# plt.hist(train_error, bins = 15)\n",
    "# plt.title('Train Set, count {}'.format(y_train.shape[0]))\n",
    "# plt.xlabel('Prediction Error [{}]'.format(target_column))\n",
    "# _ = plt.ylabel(\"Count\")\n",
    "# plt.show()"
   ]
  },
  {
   "cell_type": "code",
   "execution_count": null,
   "metadata": {
    "colab": {},
    "colab_type": "code",
    "collapsed": false,
    "id": "e_ktL1WXKn-A",
    "jupyter": {
     "outputs_hidden": false
    },
    "pycharm": {
     "name": "#%%\n"
    }
   },
   "outputs": [],
   "source": [
    "# df_new = DataFrame()\n",
    "# df_new[target_column] = df_tmp[target_column]\n",
    "# df_new['{}_predicted'.format(target_column)] = df_tmp.apply(fill, axis = 1, args=(predictors, best_model))\n",
    "# df_new.to_csv('{}_predicted.csv'.format(target_column))\n"
   ]
  },
  {
   "cell_type": "code",
   "execution_count": null,
   "metadata": {
    "colab": {},
    "colab_type": "code",
    "collapsed": false,
    "id": "JnHfAoiHKn-D",
    "jupyter": {
     "outputs_hidden": false
    },
    "outputId": "c3964016-66f5-4c16-81b1-93c4a1f8a582",
    "pycharm": {
     "name": "#%%\n"
    }
   },
   "outputs": [
    {
     "data": {
      "image/png": "[encoded data removed]",
      "text/plain": [
       "<Figure size 432x288 with 1 Axes>"
      ]
     },
     "metadata": {
      "needs_background": "light",
      "tags": []
     },
     "output_type": "display_data"
    }
   ],
   "source": [
    "df_new = DataFrame()\n",
    "df_new[target_column] = df_tmp[target_column]\n",
    "df_new['{}_predicted'.format(target_column)] = df_tmp.apply(fill, axis = 1, args=(predictors, best_model))\n",
    "df_new.to_csv('{}_predicted.csv'.format(target_column))\n"
   ]
  },
  {
   "cell_type": "code",
   "execution_count": null,
   "metadata": {
    "colab": {},
    "colab_type": "code",
    "id": "rduxTDo4Kn-G",
    "outputId": "176bca0d-621d-4353-9e9f-1cea58d94bf3"
   },
   "outputs": [
    {
     "data": {
      "image/png": "[encoded data removed]",
      "text/plain": [
       "<Figure size 432x288 with 1 Axes>"
      ]
     },
     "metadata": {
      "needs_background": "light",
      "tags": []
     },
     "output_type": "display_data"
    }
   ],
   "source": [
    "# train_error = abs(train_predictions - y_train)\n",
    "train_error = abs(train_predictions - y_train.reshape(-1, 1))\n",
    "plt.hist(train_error, bins = 15)\n",
    "plt.title('Train Set, count {}'.format(y_train.shape[0]))\n",
    "plt.xlabel('Prediction Error [{}]'.format(target_column))\n",
    "_ = plt.ylabel(\"Count\")\n",
    "plt.show()"
   ]
  },
  {
   "cell_type": "code",
   "execution_count": null,
   "metadata": {
    "colab": {},
    "colab_type": "code",
    "id": "1gV_IiewKn-I"
   },
   "outputs": [],
   "source": [
    "df_new = DataFrame()\n",
    "df_new[target_column] = df_tmp[target_column]\n",
    "df_new['{}_predicted'.format(target_column)] = df_tmp.apply(fill, axis = 1, args=(predictors, best_model))\n",
    "df_new.to_csv('{}_predicted.csv'.format(target_column))\n"
   ]
  }
 ],
 "metadata": {
  "colab": {
   "name": "Kopia notatnika fill_missing_data.ipynb",
   "provenance": []
  },
  "kernelspec": {
   "display_name": "Python 3",
   "language": "python",
   "name": "python3"
  },
  "language_info": {
   "codemirror_mode": {
    "name": "ipython",
    "version": 3
   },
   "file_extension": ".py",
   "mimetype": "text/x-python",
   "name": "python",
   "nbconvert_exporter": "python",
   "pygments_lexer": "ipython3",
   "version": "3.7.9"
  }
 },
 "nbformat": 4,
 "nbformat_minor": 4
}
